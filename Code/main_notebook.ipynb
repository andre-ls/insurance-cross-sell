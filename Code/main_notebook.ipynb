{
 "cells": [
  {
   "cell_type": "markdown",
   "source": [
    "# Insurance Cross Sell Learn to Rank Project"
   ],
   "metadata": {}
  },
  {
   "cell_type": "markdown",
   "source": [
    "## 1. Initialization"
   ],
   "metadata": {}
  },
  {
   "cell_type": "markdown",
   "source": [
    "### 1.1 Packages"
   ],
   "metadata": {}
  },
  {
   "cell_type": "code",
   "execution_count": 1,
   "source": [
    "import numpy as np\r\n",
    "import pandas as pd\r\n",
    "import matplotlib.pyplot as plt\r\n",
    "import matplotlib.ticker as ticker\r\n",
    "import seaborn as sns\r\n",
    "import pickle\r\n",
    "import random\r\n",
    "import scikitplot as skplt\r\n",
    "import xgboost as xgb\r\n",
    "import warnings\r\n",
    "\r\n",
    "from IPython.display import Image\r\n",
    "from scipy import stats as ss\r\n",
    "from sklearn.preprocessing import StandardScaler, MinMaxScaler\r\n",
    "from sklearn.model_selection import train_test_split, StratifiedKFold\r\n",
    "from sklearn.linear_model import LogisticRegression\r\n",
    "from sklearn.neighbors import KNeighborsClassifier\r\n",
    "from sklearn.ensemble import RandomForestClassifier\r\n",
    "\r\n",
    "sns.set_style('darkgrid')\r\n",
    "warnings.filterwarnings('ignore')"
   ],
   "outputs": [],
   "metadata": {}
  },
  {
   "cell_type": "markdown",
   "source": [
    "### 1.2 Support Functions"
   ],
   "metadata": {}
  },
  {
   "cell_type": "code",
   "execution_count": 2,
   "source": [
    "def cramer_v(x, y):\r\n",
    "    \r\n",
    "    cm = pd.crosstab(x, y).values\r\n",
    "    n = cm.sum()\r\n",
    "    r, k = cm.shape\r\n",
    "    \r\n",
    "    chi2 = ss.chi2_contingency(cm)[0]\r\n",
    "    chi2corr = max(0, chi2 - (k - 1) * (r - 1) / (n - 1))\r\n",
    "    kcorr = k - (k - 1) ** 2 / (n - 1)\r\n",
    "    rcorr = r - (r - 1) ** 2 / (n - 1)\r\n",
    "    \r\n",
    "    return np.sqrt( (chi2corr / n) / (min(kcorr - 1, rcorr - 1)))"
   ],
   "outputs": [],
   "metadata": {}
  },
  {
   "cell_type": "code",
   "execution_count": 3,
   "source": [
    "def precision_at_k(data,k):\r\n",
    "\r\n",
    "    data['precision_at_k'] = data['response'].cumsum() / data['ranking']\r\n",
    "\r\n",
    "    return data.loc[k, 'precision_at_k']"
   ],
   "outputs": [],
   "metadata": {}
  },
  {
   "cell_type": "code",
   "execution_count": 4,
   "source": [
    "def recall_at_k(data,k):\r\n",
    "\r\n",
    "    data['recall_at_k'] = data['response'].cumsum() / data['response'].sum()\r\n",
    "\r\n",
    "    return data.loc[k, 'recall_at_k']"
   ],
   "outputs": [],
   "metadata": {}
  },
  {
   "cell_type": "code",
   "execution_count": 5,
   "source": [
    "def generate_ordered_df(y_true,y_hat):\r\n",
    "    ordered_df = pd.DataFrame({'response':y_true,'score':y_hat[:,1]})\r\n",
    "    ordered_df = ordered_df.sort_values('score',ascending=False)\r\n",
    "    ordered_df = ordered_df.reset_index(drop = True)\r\n",
    "    ordered_df['ranking'] = ordered_df.index + 1\r\n",
    "    return ordered_df"
   ],
   "outputs": [],
   "metadata": {}
  },
  {
   "cell_type": "code",
   "execution_count": 6,
   "source": [
    "def balance_data(X,y):\r\n",
    "    over = SMOTE(sampling_strategy='auto')\r\n",
    "    under = RandomUnderSampler(sampling_strategy='auto')\r\n",
    "    snn = SMOTEENN(sampling_strategy='auto')\r\n",
    "\r\n",
    "    X_balanced, y_balanced = snn.fit_resample(X,y)\r\n",
    "\r\n",
    "    return X_balanced, y_balanced"
   ],
   "outputs": [],
   "metadata": {}
  },
  {
   "cell_type": "code",
   "execution_count": 7,
   "source": [
    "def calculate_performance(y_true,y_hat,k):\r\n",
    "     ordered_df = generate_ordered_df(y_true,y_hat)\r\n",
    "     precision = precision_at_k(ordered_df,k=k)\r\n",
    "     recall = recall_at_k(ordered_df,k=k)\r\n",
    "\r\n",
    "     return precision, recall"
   ],
   "outputs": [],
   "metadata": {}
  },
  {
   "cell_type": "code",
   "execution_count": 8,
   "source": [
    "def generate_results_df(model_name,precision_list,recall_list):\r\n",
    "    results = pd.DataFrame({\r\n",
    "        'Model' : model_name,\r\n",
    "        'Precision at K (CV)' : np.round(np.mean(precision_list),3).astype(str),\r\n",
    "        'Recall at K (CV)' : np.round(np.mean(recall_list),3).astype(str)\r\n",
    "    },index=[0])\r\n",
    "\r\n",
    "    return results"
   ],
   "outputs": [],
   "metadata": {}
  },
  {
   "cell_type": "code",
   "execution_count": 9,
   "source": [
    "def cross_validation(model, model_name, folds, k, X, y):\r\n",
    "\r\n",
    "    precision_list = []\r\n",
    "    recall_list = []\r\n",
    "    skf = StratifiedKFold(n_splits=folds,shuffle=True)\r\n",
    "\r\n",
    "    for train_index, val_index in skf.split(X,y):\r\n",
    "        X_train, X_val = X.iloc[train_index], X.iloc[val_index]\r\n",
    "        y_train, y_val = y.iloc[train_index], y.iloc[val_index]\r\n",
    "\r\n",
    "        if model_name == 'XGBoost':\r\n",
    "            model.fit(X_train,y_train,eval_metric='auc')\r\n",
    "        else:\r\n",
    "            model.fit(X_train,y_train)    \r\n",
    "        \r\n",
    "        y_hat = model.predict_proba(X_val)\r\n",
    "\r\n",
    "        precision,recall = calculate_performance(y_val, y_hat,k)\r\n",
    "\r\n",
    "        precision_list.append(precision)\r\n",
    "        recall_list.append(recall)\r\n",
    "\r\n",
    "    cv_results = generate_results_df(model_name,precision_list,recall_list)\r\n",
    "    return cv_results"
   ],
   "outputs": [],
   "metadata": {}
  },
  {
   "cell_type": "markdown",
   "source": [
    "## 2. Data Reading"
   ],
   "metadata": {}
  },
  {
   "cell_type": "code",
   "execution_count": 10,
   "source": [
    "data = pd.read_csv('../Data/train.csv')"
   ],
   "outputs": [],
   "metadata": {}
  },
  {
   "cell_type": "code",
   "execution_count": 11,
   "source": [
    "data.head()"
   ],
   "outputs": [
    {
     "output_type": "execute_result",
     "data": {
      "text/plain": [
       "   id  Gender  Age  Driving_License  Region_Code  Previously_Insured Vehicle_Age Vehicle_Damage  Annual_Premium  Policy_Sales_Channel  Vintage  Response\n",
       "0   1    Male   44                1         28.0                   0   > 2 Years            Yes         40454.0                  26.0      217         1\n",
       "1   2    Male   76                1          3.0                   0    1-2 Year             No         33536.0                  26.0      183         0\n",
       "2   3    Male   47                1         28.0                   0   > 2 Years            Yes         38294.0                  26.0       27         1\n",
       "3   4    Male   21                1         11.0                   1    < 1 Year             No         28619.0                 152.0      203         0\n",
       "4   5  Female   29                1         41.0                   1    < 1 Year             No         27496.0                 152.0       39         0"
      ],
      "text/html": [
       "<div>\n",
       "<style scoped>\n",
       "    .dataframe tbody tr th:only-of-type {\n",
       "        vertical-align: middle;\n",
       "    }\n",
       "\n",
       "    .dataframe tbody tr th {\n",
       "        vertical-align: top;\n",
       "    }\n",
       "\n",
       "    .dataframe thead th {\n",
       "        text-align: right;\n",
       "    }\n",
       "</style>\n",
       "<table border=\"1\" class=\"dataframe\">\n",
       "  <thead>\n",
       "    <tr style=\"text-align: right;\">\n",
       "      <th></th>\n",
       "      <th>id</th>\n",
       "      <th>Gender</th>\n",
       "      <th>Age</th>\n",
       "      <th>Driving_License</th>\n",
       "      <th>Region_Code</th>\n",
       "      <th>Previously_Insured</th>\n",
       "      <th>Vehicle_Age</th>\n",
       "      <th>Vehicle_Damage</th>\n",
       "      <th>Annual_Premium</th>\n",
       "      <th>Policy_Sales_Channel</th>\n",
       "      <th>Vintage</th>\n",
       "      <th>Response</th>\n",
       "    </tr>\n",
       "  </thead>\n",
       "  <tbody>\n",
       "    <tr>\n",
       "      <th>0</th>\n",
       "      <td>1</td>\n",
       "      <td>Male</td>\n",
       "      <td>44</td>\n",
       "      <td>1</td>\n",
       "      <td>28.0</td>\n",
       "      <td>0</td>\n",
       "      <td>&gt; 2 Years</td>\n",
       "      <td>Yes</td>\n",
       "      <td>40454.0</td>\n",
       "      <td>26.0</td>\n",
       "      <td>217</td>\n",
       "      <td>1</td>\n",
       "    </tr>\n",
       "    <tr>\n",
       "      <th>1</th>\n",
       "      <td>2</td>\n",
       "      <td>Male</td>\n",
       "      <td>76</td>\n",
       "      <td>1</td>\n",
       "      <td>3.0</td>\n",
       "      <td>0</td>\n",
       "      <td>1-2 Year</td>\n",
       "      <td>No</td>\n",
       "      <td>33536.0</td>\n",
       "      <td>26.0</td>\n",
       "      <td>183</td>\n",
       "      <td>0</td>\n",
       "    </tr>\n",
       "    <tr>\n",
       "      <th>2</th>\n",
       "      <td>3</td>\n",
       "      <td>Male</td>\n",
       "      <td>47</td>\n",
       "      <td>1</td>\n",
       "      <td>28.0</td>\n",
       "      <td>0</td>\n",
       "      <td>&gt; 2 Years</td>\n",
       "      <td>Yes</td>\n",
       "      <td>38294.0</td>\n",
       "      <td>26.0</td>\n",
       "      <td>27</td>\n",
       "      <td>1</td>\n",
       "    </tr>\n",
       "    <tr>\n",
       "      <th>3</th>\n",
       "      <td>4</td>\n",
       "      <td>Male</td>\n",
       "      <td>21</td>\n",
       "      <td>1</td>\n",
       "      <td>11.0</td>\n",
       "      <td>1</td>\n",
       "      <td>&lt; 1 Year</td>\n",
       "      <td>No</td>\n",
       "      <td>28619.0</td>\n",
       "      <td>152.0</td>\n",
       "      <td>203</td>\n",
       "      <td>0</td>\n",
       "    </tr>\n",
       "    <tr>\n",
       "      <th>4</th>\n",
       "      <td>5</td>\n",
       "      <td>Female</td>\n",
       "      <td>29</td>\n",
       "      <td>1</td>\n",
       "      <td>41.0</td>\n",
       "      <td>1</td>\n",
       "      <td>&lt; 1 Year</td>\n",
       "      <td>No</td>\n",
       "      <td>27496.0</td>\n",
       "      <td>152.0</td>\n",
       "      <td>39</td>\n",
       "      <td>0</td>\n",
       "    </tr>\n",
       "  </tbody>\n",
       "</table>\n",
       "</div>"
      ]
     },
     "metadata": {},
     "execution_count": 11
    }
   ],
   "metadata": {}
  },
  {
   "cell_type": "markdown",
   "source": [
    "## 3. Data Description"
   ],
   "metadata": {}
  },
  {
   "cell_type": "markdown",
   "source": [
    "On this section, an initial description and pre-processing of data is proposed."
   ],
   "metadata": {}
  },
  {
   "cell_type": "markdown",
   "source": [
    "### 3.1 Rename Columns"
   ],
   "metadata": {}
  },
  {
   "cell_type": "markdown",
   "source": [
    "For the sake of standardization, all column will jave their name converted to a Snake Case format."
   ],
   "metadata": {}
  },
  {
   "cell_type": "code",
   "execution_count": 12,
   "source": [
    "lower = lambda x: x.lower()\r\n",
    "data.columns = list(map(lower,data.columns))"
   ],
   "outputs": [],
   "metadata": {}
  },
  {
   "cell_type": "markdown",
   "source": [
    "### 3.2 Data Dimesionality"
   ],
   "metadata": {}
  },
  {
   "cell_type": "markdown",
   "source": [
    "Let's get an initial grasp of the dimensions of data."
   ],
   "metadata": {}
  },
  {
   "cell_type": "code",
   "execution_count": 13,
   "source": [
    "print('Number of Rows: {}'.format(data.shape[0]))\r\n",
    "print('Number of Columns: {}'.format(data.shape[1]))"
   ],
   "outputs": [
    {
     "output_type": "stream",
     "name": "stdout",
     "text": [
      "Number of Rows: 381109\n",
      "Number of Columns: 12\n"
     ]
    }
   ],
   "metadata": {}
  },
  {
   "cell_type": "markdown",
   "source": [
    "### 3.3 NaN's"
   ],
   "metadata": {}
  },
  {
   "cell_type": "markdown",
   "source": [
    "Let's check the presence of NaN's on the dataset."
   ],
   "metadata": {}
  },
  {
   "cell_type": "code",
   "execution_count": 14,
   "source": [
    "data.isna().sum()"
   ],
   "outputs": [
    {
     "output_type": "execute_result",
     "data": {
      "text/plain": [
       "id                      0\n",
       "gender                  0\n",
       "age                     0\n",
       "driving_license         0\n",
       "region_code             0\n",
       "previously_insured      0\n",
       "vehicle_age             0\n",
       "vehicle_damage          0\n",
       "annual_premium          0\n",
       "policy_sales_channel    0\n",
       "vintage                 0\n",
       "response                0\n",
       "dtype: int64"
      ]
     },
     "metadata": {},
     "execution_count": 14
    }
   ],
   "metadata": {}
  },
  {
   "cell_type": "markdown",
   "source": [
    "There's no presence of NaN values on the dataset, which is a good sign."
   ],
   "metadata": {}
  },
  {
   "cell_type": "markdown",
   "source": [
    "### 3.4 Data Types"
   ],
   "metadata": {}
  },
  {
   "cell_type": "markdown",
   "source": [
    "To a better analysis of data in future steps, some columns have their data types changed."
   ],
   "metadata": {}
  },
  {
   "cell_type": "code",
   "execution_count": 15,
   "source": [
    "data['region_code'] = data['region_code'].astype('int64')\r\n",
    "data['policy_sales_channel'] = data['policy_sales_channel'].astype('int64')"
   ],
   "outputs": [],
   "metadata": {}
  },
  {
   "cell_type": "markdown",
   "source": [
    "The \"id\" column behaves closely to the dataframe index, despite for the fact that starts on 1, not zero. So, let's make the index equals the \"id\" column, and then dropping the column out."
   ],
   "metadata": {}
  },
  {
   "cell_type": "code",
   "execution_count": 16,
   "source": [
    "data = data.drop('id',axis=1)\r\n",
    "data.index = data.index + 1"
   ],
   "outputs": [],
   "metadata": {}
  },
  {
   "cell_type": "markdown",
   "source": [
    "A final check on the data types is made on the last cell."
   ],
   "metadata": {}
  },
  {
   "cell_type": "code",
   "execution_count": 17,
   "source": [
    "data.dtypes"
   ],
   "outputs": [
    {
     "output_type": "execute_result",
     "data": {
      "text/plain": [
       "gender                   object\n",
       "age                       int64\n",
       "driving_license           int64\n",
       "region_code               int64\n",
       "previously_insured        int64\n",
       "vehicle_age              object\n",
       "vehicle_damage           object\n",
       "annual_premium          float64\n",
       "policy_sales_channel      int64\n",
       "vintage                   int64\n",
       "response                  int64\n",
       "dtype: object"
      ]
     },
     "metadata": {},
     "execution_count": 17
    }
   ],
   "metadata": {}
  },
  {
   "cell_type": "markdown",
   "source": [
    "### 3.5 Statistical Description"
   ],
   "metadata": {}
  },
  {
   "cell_type": "markdown",
   "source": [
    "To end this section, some simple statistical analysis are proposed on data. For this, numerical and categorical features will be treated separately."
   ],
   "metadata": {}
  },
  {
   "cell_type": "code",
   "execution_count": 18,
   "source": [
    "numerical_features = ['age','annual_premium','vintage']\r\n",
    "categorical_features = ['gender','driving_license','region_code','previously_insured','vehicle_age','policy_sales_channel','response']"
   ],
   "outputs": [],
   "metadata": {}
  },
  {
   "cell_type": "markdown",
   "source": [
    "For the Numerical Features some aggregated statistics are calculated for each column."
   ],
   "metadata": {}
  },
  {
   "cell_type": "code",
   "execution_count": 19,
   "source": [
    "data[numerical_features].describe()"
   ],
   "outputs": [
    {
     "output_type": "execute_result",
     "data": {
      "text/plain": [
       "                 age  annual_premium        vintage\n",
       "count  381109.000000   381109.000000  381109.000000\n",
       "mean       38.822584    30564.389581     154.347397\n",
       "std        15.511611    17213.155057      83.671304\n",
       "min        20.000000     2630.000000      10.000000\n",
       "25%        25.000000    24405.000000      82.000000\n",
       "50%        36.000000    31669.000000     154.000000\n",
       "75%        49.000000    39400.000000     227.000000\n",
       "max        85.000000   540165.000000     299.000000"
      ],
      "text/html": [
       "<div>\n",
       "<style scoped>\n",
       "    .dataframe tbody tr th:only-of-type {\n",
       "        vertical-align: middle;\n",
       "    }\n",
       "\n",
       "    .dataframe tbody tr th {\n",
       "        vertical-align: top;\n",
       "    }\n",
       "\n",
       "    .dataframe thead th {\n",
       "        text-align: right;\n",
       "    }\n",
       "</style>\n",
       "<table border=\"1\" class=\"dataframe\">\n",
       "  <thead>\n",
       "    <tr style=\"text-align: right;\">\n",
       "      <th></th>\n",
       "      <th>age</th>\n",
       "      <th>annual_premium</th>\n",
       "      <th>vintage</th>\n",
       "    </tr>\n",
       "  </thead>\n",
       "  <tbody>\n",
       "    <tr>\n",
       "      <th>count</th>\n",
       "      <td>381109.000000</td>\n",
       "      <td>381109.000000</td>\n",
       "      <td>381109.000000</td>\n",
       "    </tr>\n",
       "    <tr>\n",
       "      <th>mean</th>\n",
       "      <td>38.822584</td>\n",
       "      <td>30564.389581</td>\n",
       "      <td>154.347397</td>\n",
       "    </tr>\n",
       "    <tr>\n",
       "      <th>std</th>\n",
       "      <td>15.511611</td>\n",
       "      <td>17213.155057</td>\n",
       "      <td>83.671304</td>\n",
       "    </tr>\n",
       "    <tr>\n",
       "      <th>min</th>\n",
       "      <td>20.000000</td>\n",
       "      <td>2630.000000</td>\n",
       "      <td>10.000000</td>\n",
       "    </tr>\n",
       "    <tr>\n",
       "      <th>25%</th>\n",
       "      <td>25.000000</td>\n",
       "      <td>24405.000000</td>\n",
       "      <td>82.000000</td>\n",
       "    </tr>\n",
       "    <tr>\n",
       "      <th>50%</th>\n",
       "      <td>36.000000</td>\n",
       "      <td>31669.000000</td>\n",
       "      <td>154.000000</td>\n",
       "    </tr>\n",
       "    <tr>\n",
       "      <th>75%</th>\n",
       "      <td>49.000000</td>\n",
       "      <td>39400.000000</td>\n",
       "      <td>227.000000</td>\n",
       "    </tr>\n",
       "    <tr>\n",
       "      <th>max</th>\n",
       "      <td>85.000000</td>\n",
       "      <td>540165.000000</td>\n",
       "      <td>299.000000</td>\n",
       "    </tr>\n",
       "  </tbody>\n",
       "</table>\n",
       "</div>"
      ]
     },
     "metadata": {},
     "execution_count": 19
    }
   ],
   "metadata": {}
  },
  {
   "cell_type": "markdown",
   "source": [
    "For the categorical features, charts of the distribution of some columns can be a great idea to obtain a first glance of the data. For this initial analysis, let's check the distributions of \"Driving License\",\"Previously Insured\" and \"Vehicle Age\"."
   ],
   "metadata": {}
  },
  {
   "cell_type": "code",
   "execution_count": 20,
   "source": [
    "grid = plt.GridSpec(2,2)\r\n",
    "\r\n",
    "plt.subplot(grid[0,0])\r\n",
    "sns.countplot(x='driving_license',data=data)\r\n",
    "\r\n",
    "plt.subplot(grid[0,1])\r\n",
    "sns.countplot(x='previously_insured',data=data)\r\n",
    "\r\n",
    "plt.subplot(grid[1,:])\r\n",
    "sns.countplot(data['vehicle_age'],order=['< 1 Year','1-2 Year','> 2 Years'])"
   ],
   "outputs": [
    {
     "output_type": "execute_result",
     "data": {
      "text/plain": [
       "<AxesSubplot:xlabel='vehicle_age', ylabel='count'>"
      ]
     },
     "metadata": {},
     "execution_count": 20
    }
   ],
   "metadata": {}
  },
  {
   "cell_type": "markdown",
   "source": [
    "The \"Driving License\" plot, on the upper left shows that almost all the customers on the dataset have a driving license, which is a very desired behaviour for this problem. On the upper right, \"Previously Insured\" presents a balanced distribution. On the lower part, the \"Vehicle Age\" shows that actually most of the cars of the customers are new cars, which seems to also be a desired feature for a vehicle insurance customer."
   ],
   "metadata": {}
  },
  {
   "cell_type": "markdown",
   "source": [
    "## 4. Feature Engineering"
   ],
   "metadata": {}
  },
  {
   "cell_type": "markdown",
   "source": [
    "On this section, some new features are created based on the original ones, with the objective of increasing the model learning and performance. Since the original data has not many columns, however, only two features have been derived on this work.\r\n",
    "\r\n",
    "The first one indicate customers that have vehicle damage, but don't have a driving license, which could be a strong indicator of a illegal driver. And the second feature consider the customers that have experienced a vehicle damage but were not previously insured."
   ],
   "metadata": {}
  },
  {
   "cell_type": "code",
   "execution_count": 21,
   "source": [
    "rule = lambda x: 1 if (x['driving_license'] == 0) & (x['vehicle_damage'] == 'Yes') else 0 \r\n",
    "data['illegal_driver'] = data.apply(rule,axis=1)"
   ],
   "outputs": [],
   "metadata": {}
  },
  {
   "cell_type": "code",
   "execution_count": 22,
   "source": [
    "rule = lambda x: 1 if (x['vehicle_damage'] == 'Yes') & (x['previously_insured'] == 0) else 0 \r\n",
    "data['no_insured_damage'] = data.apply(rule,axis=1)"
   ],
   "outputs": [],
   "metadata": {}
  },
  {
   "cell_type": "markdown",
   "source": [
    "## 5. Hyphotesis Creation"
   ],
   "metadata": {}
  },
  {
   "cell_type": "markdown",
   "source": [
    "To start the Hyphotesis Creation, a Mind Map containing some ideas of the main factors that influence the Target Variable. "
   ],
   "metadata": {}
  },
  {
   "cell_type": "code",
   "execution_count": 23,
   "source": [
    "Image(filename='hyphotesis_map.png')"
   ],
   "outputs": [
    {
     "output_type": "execute_result",
     "data": {
      "text/plain": [
       "<IPython.core.display.Image object>"
      ],
      "image/png": "[encoded data removed]"
     },
     "metadata": {},
     "execution_count": 23
    }
   ],
   "metadata": {}
  },
  {
   "cell_type": "markdown",
   "source": [
    " The main factor on this map is the Customer, since it is from him that the Interest in the offered service is originated. The other two factors, actions by the Insurer and Temporal Features (which can be strongly related to vehicle sales behaviour) can increase the interest on the customers, but not create it. \r\n",
    "\r\n",
    " Unfortunately, not all these factors can be studied in detail with the available data, so only hyphotesis contained in the dataset will be developed on the next steps."
   ],
   "metadata": {}
  },
  {
   "cell_type": "markdown",
   "source": [
    "  <h2> Hyphotesis List </h2>\r\n",
    "\r\n",
    "  * Hyphotesis 1: Customers that own a vehicle should be interest in the Vehicle Insurance offer.\r\n",
    "  * Hyphotesis 2: Customers that had their vehicles damaged in the past should be interest in the Vehicle Insurance offer.\r\n",
    "  * Hyphotesis 3: Customers with newer vehicles should be more interested in the Vehicle Insurance offer.\r\n",
    "  * Hyphotesis 4: Older customers of the Health Insurance should be more interested in the Vehicle Insurance offer.\r\n",
    "  * Hyphotesis 5: Interest in Vehicle Insurance vary between different Regions.\r\n",
    "  * Hyphotesis 6: Customers with cheaper Premium prices should be more interest in the Vehicle Insurance offer."
   ],
   "metadata": {}
  },
  {
   "cell_type": "markdown",
   "source": [
    "## 6. Exploratory Data Analysis (EDA)"
   ],
   "metadata": {}
  },
  {
   "cell_type": "markdown",
   "source": [
    "On this section, a more detailed analysis of the data is carried out, starting with Univariate analysis, followed by bivariate analysis, where the hyphotesis created before are tested, and ending with a Multivariate Analysis, both of the Numerical and Categorical variables."
   ],
   "metadata": {}
  },
  {
   "cell_type": "markdown",
   "source": [
    "### 6.1 Univariate Analysis"
   ],
   "metadata": {}
  },
  {
   "cell_type": "markdown",
   "source": [
    "#### 6.1.1 Response Variable"
   ],
   "metadata": {}
  },
  {
   "cell_type": "markdown",
   "source": [
    "We start the Univariate Analysis subsection with the Response Variable, which involves the interest of customers in the vehicle insurance offer."
   ],
   "metadata": {}
  },
  {
   "cell_type": "code",
   "execution_count": 24,
   "source": [
    "sns.countplot(x='response',data=data)"
   ],
   "outputs": [
    {
     "output_type": "execute_result",
     "data": {
      "text/plain": [
       "<AxesSubplot:xlabel='response', ylabel='count'>"
      ]
     },
     "metadata": {},
     "execution_count": 24
    }
   ],
   "metadata": {}
  },
  {
   "cell_type": "markdown",
   "source": [
    "It is clear that the response is highly unbalanced, which can cause some problems on the model predictions in future steps. A balancing procedure may be needed in future developments of the model. "
   ],
   "metadata": {}
  },
  {
   "cell_type": "markdown",
   "source": [
    "#### 6.1.2 Numerical Variables"
   ],
   "metadata": {}
  },
  {
   "cell_type": "markdown",
   "source": [
    "Despite the fact that most of the columns of the dataset are represented as numbers, only a few of them really represent numerical variables. Let's check those."
   ],
   "metadata": {}
  },
  {
   "cell_type": "code",
   "execution_count": 25,
   "source": [
    "num_features = ['age','annual_premium','vintage']\r\n",
    "data[num_features].hist(bins=25)"
   ],
   "outputs": [
    {
     "output_type": "execute_result",
     "data": {
      "text/plain": [
       "array([[<AxesSubplot:title={'center':'age'}>,\n",
       "        <AxesSubplot:title={'center':'annual_premium'}>],\n",
       "       [<AxesSubplot:title={'center':'vintage'}>, <AxesSubplot:>]],\n",
       "      dtype=object)"
      ]
     },
     "metadata": {},
     "execution_count": 25
    }
   ],
   "metadata": {}
  },
  {
   "cell_type": "markdown",
   "source": [
    "The \"age\" columns seems to present a skewed distribution towards younger people, but not something extreme. \r\n",
    "\r\n",
    "The \"annual premium\" columns, however, presents a long-tailed distribution, indicating the presence of outliers.\r\n",
    "\r\n",
    "And finally, the \"vintage\" column presents a almost constant distribution over the range of values, which may result in the fact that the model will not get much useful information of that."
   ],
   "metadata": {}
  },
  {
   "cell_type": "markdown",
   "source": [
    "#### 6.1.3 Categorical Variables"
   ],
   "metadata": {}
  },
  {
   "cell_type": "markdown",
   "source": [
    "For the categorical variables, only some of the columns, that are most relevant, were selected. Let's check those."
   ],
   "metadata": {}
  },
  {
   "cell_type": "code",
   "execution_count": 26,
   "source": [
    "grid = plt.GridSpec(2,2)\r\n",
    "\r\n",
    "plt.subplot(grid[0,0])\r\n",
    "sns.countplot(x='driving_license',data=data)\r\n",
    "\r\n",
    "plt.subplot(grid[0,1])\r\n",
    "sns.countplot(x='previously_insured',data=data)\r\n",
    "\r\n",
    "plt.subplot(grid[1,:])\r\n",
    "sns.countplot(data['vehicle_age'],order=['< 1 Year','1-2 Year','> 2 Years'])"
   ],
   "outputs": [
    {
     "output_type": "execute_result",
     "data": {
      "text/plain": [
       "<AxesSubplot:xlabel='vehicle_age', ylabel='count'>"
      ]
     },
     "metadata": {},
     "execution_count": 26
    }
   ],
   "metadata": {}
  },
  {
   "cell_type": "markdown",
   "source": [
    "The \"driving license\" column is highly unbalanced towards customers who pursue a license, as can be seen on the upper left plot. \r\n",
    "\r\n",
    "On the upper right plot, it is possible to see a more balanced distribution on the \"previously insured\" column.\r\n",
    "\r\n",
    "And last, on the bottom plot, the distribution of \"vehicle age\" shows that most of the customers pursue newer vehicles, between 0 and 2 years."
   ],
   "metadata": {}
  },
  {
   "cell_type": "markdown",
   "source": [
    "### 6.2 Bivariate Analysis"
   ],
   "metadata": {}
  },
  {
   "cell_type": "markdown",
   "source": [
    "On this subsection, the hyphotesis created before are put into test, one by one. Let's head to them."
   ],
   "metadata": {}
  },
  {
   "cell_type": "markdown",
   "source": [
    "#### 6.2.1 Hyphotesis 1: Customers that own a vehicle should be interest in the Vehicle Insurance offer.\r\n",
    "\r\n",
    "* False: Most of the customers that own a vehicle actually don't have interested in Vehicle Insurance."
   ],
   "metadata": {}
  },
  {
   "cell_type": "markdown",
   "source": [
    "To check this first hyphotesis, we simply plot the response variable filtered only to the customers who pursue a driving license, which is considered here as a proxy variable that indicates that a customer have a vehicle."
   ],
   "metadata": {}
  },
  {
   "cell_type": "code",
   "execution_count": 27,
   "source": [
    "plot_data = data[data['driving_license']==1]\r\n",
    "sns.countplot(x='response',data=plot_data)"
   ],
   "outputs": [
    {
     "output_type": "execute_result",
     "data": {
      "text/plain": [
       "<AxesSubplot:xlabel='response', ylabel='count'>"
      ]
     },
     "metadata": {},
     "execution_count": 27
    }
   ],
   "metadata": {}
  },
  {
   "cell_type": "markdown",
   "source": [
    "Even on customers that have a vehicle, the number of people uninterested on the vehicle insurance offer is higher, making the hyphotesis false."
   ],
   "metadata": {}
  },
  {
   "cell_type": "markdown",
   "source": [
    "#### 6.2.2 Hyphotesis 2: Customers that had their vehicles damaged in the past should be interested in the Vehicle Insurance offer.\r\n",
    "\r\n",
    "* False: Most of the customers that had their vehicles damaged in past actually don't have interested in Vehicle Insurance."
   ],
   "metadata": {}
  },
  {
   "cell_type": "markdown",
   "source": [
    "For this one, we again plot the response variable filtered for the customers who already have experienced a vehicle damage."
   ],
   "metadata": {}
  },
  {
   "cell_type": "code",
   "execution_count": 28,
   "source": [
    "plot_data = data[data['vehicle_damage']=='Yes']\r\n",
    "sns.countplot(x='response',data=plot_data)"
   ],
   "outputs": [
    {
     "output_type": "execute_result",
     "data": {
      "text/plain": [
       "<AxesSubplot:xlabel='response', ylabel='count'>"
      ]
     },
     "metadata": {},
     "execution_count": 28
    }
   ],
   "metadata": {}
  },
  {
   "cell_type": "markdown",
   "source": [
    "And again, the marjority of customers don't have interest in the vehicle insurance, making the hyphotesis false."
   ],
   "metadata": {}
  },
  {
   "cell_type": "markdown",
   "source": [
    "#### 6.2.3 Hyphotesis 3: Customers with newer vehicles should be more interested in the Vehicle Insurance offer.\r\n",
    "\r\n",
    "* False: Most of the customers that have interest in the Vehicle Insurance have vehicles with ages between 1 and 2 years."
   ],
   "metadata": {}
  },
  {
   "cell_type": "markdown",
   "source": [
    "For this hyphotesis, the response variable is again used, but this time, plotted for each period of \"vehicle age\"."
   ],
   "metadata": {}
  },
  {
   "cell_type": "code",
   "execution_count": 29,
   "source": [
    "plot_data = data.groupby(['vehicle_age','response']).count().reset_index()\r\n",
    "sns.barplot(x='vehicle_age',y='gender',data=plot_data,hue='response',order=['< 1 Year','1-2 Year','> 2 Years'])"
   ],
   "outputs": [
    {
     "output_type": "execute_result",
     "data": {
      "text/plain": [
       "<AxesSubplot:xlabel='vehicle_age', ylabel='gender'>"
      ]
     },
     "metadata": {},
     "execution_count": 29
    }
   ],
   "metadata": {}
  },
  {
   "cell_type": "markdown",
   "source": [
    "And again, the uninterest is higher for all vehicles despite it's age, making the hyphotesis false."
   ],
   "metadata": {}
  },
  {
   "cell_type": "markdown",
   "source": [
    "#### 6.2.4 Hyphotesis 4: Older customers of the Health Insurance should be more interested in the Vehicle Insurance offer.\r\n",
    "* False: The distribution of the interested and not interested customers remains almost constant between newer and older customers."
   ],
   "metadata": {}
  },
  {
   "cell_type": "markdown",
   "source": [
    "For the fourth hyphotesis, we can compare the plot of count of customers by vintage filtering by both the interested and non-interested customers on the vehicle insurance."
   ],
   "metadata": {}
  },
  {
   "cell_type": "code",
   "execution_count": 30,
   "source": [
    "grid = plt.GridSpec(2,1)\r\n",
    "\r\n",
    "plt.subplot(grid[0,0])\r\n",
    "plot_data = data[data['response']==0]\r\n",
    "ax = sns.countplot(x='vintage',data=plot_data)\r\n",
    "ax.xaxis.set_major_locator(ticker.MultipleLocator(10))\r\n",
    "\r\n",
    "plt.subplot(grid[1,0])\r\n",
    "plot_data = data[data['response']==1]\r\n",
    "ax = sns.countplot(x='vintage',data=plot_data)\r\n",
    "ax.xaxis.set_major_locator(ticker.MultipleLocator(10))"
   ],
   "outputs": [],
   "metadata": {}
  },
  {
   "cell_type": "markdown",
   "source": [
    "Both distributions behave almost constant, indicating no difference in interest between older and newer customers, making the hyphotesis false."
   ],
   "metadata": {}
  },
  {
   "cell_type": "markdown",
   "source": [
    "#### 6.2.5 Hyphotesis 5: Interest in Vehicle Insurance vary between different Regions.\r\n",
    "\r\n",
    "* True: Different Regions have differences in customers interested in the vehicle insurance."
   ],
   "metadata": {}
  },
  {
   "cell_type": "markdown",
   "source": [
    "This hyphotesis can be checked by plotting the count of interested customers by region, as made below."
   ],
   "metadata": {}
  },
  {
   "cell_type": "code",
   "execution_count": 31,
   "source": [
    "plot_data = data[data['response']==1]\r\n",
    "sns.countplot(x='region_code',data=plot_data)\r\n",
    "plt.xticks(rotation=45);"
   ],
   "outputs": [],
   "metadata": {}
  },
  {
   "cell_type": "markdown",
   "source": [
    "Definitely there's some variance of customers between regions, making the hyphotesis true."
   ],
   "metadata": {}
  },
  {
   "cell_type": "markdown",
   "source": [
    "#### 6.2.6 Hyphotesis 6: Customers with cheaper Premium prices should be more interest in the Vehicle Insurance offer.\r\n",
    "\r\n",
    "* False: Both Customers interested and not interested in Vehicle Insurance follows a similar distribution in terms of the Premium Price."
   ],
   "metadata": {}
  },
  {
   "cell_type": "markdown",
   "source": [
    "For this last hyphotesis, we can plot the distribution of \"annual premium\" both for interested and uninterested customers and check any differences between them. Because of the presence of some outliers, a log scale is utilized."
   ],
   "metadata": {}
  },
  {
   "cell_type": "code",
   "execution_count": 32,
   "source": [
    "grid = plt.GridSpec(2,1)\r\n",
    "\r\n",
    "plt.subplot(grid[0,0])\r\n",
    "plot_data = data[data['response']==0]\r\n",
    "ax = sns.histplot(x='annual_premium',data=plot_data,stat='density',color='red',label='Class 0',log_scale=True)\r\n",
    "\r\n",
    "plot_data = data[data['response']==1]\r\n",
    "sns.histplot(x='annual_premium',data=plot_data,ax=ax,stat='density',color='blue',label='Class 1',log_scale=True)\r\n",
    "plt.legend()"
   ],
   "outputs": [
    {
     "output_type": "execute_result",
     "data": {
      "text/plain": [
       "<matplotlib.legend.Legend at 0x23b5c5b2490>"
      ]
     },
     "metadata": {},
     "execution_count": 32
    }
   ],
   "metadata": {}
  },
  {
   "cell_type": "markdown",
   "source": [
    "As can be seen above, there's no significant difference between both distributions, making the hyphotesis false."
   ],
   "metadata": {}
  },
  {
   "cell_type": "markdown",
   "source": [
    "### 6.3 Multivariate Analysis"
   ],
   "metadata": {}
  },
  {
   "cell_type": "markdown",
   "source": [
    "To finish this Exploratory Analysis, on this subsection a Multivariate Analysis is made, where more than two variables are involved. \r\n",
    "\r\n",
    "For both Numerical and Categorical Variables, a correlation plot is proposed."
   ],
   "metadata": {}
  },
  {
   "cell_type": "markdown",
   "source": [
    "#### 6.3.1 Numerical Variables"
   ],
   "metadata": {}
  },
  {
   "cell_type": "markdown",
   "source": [
    "For the Numerical variables a heatmap with Pearson correlation is proposed."
   ],
   "metadata": {}
  },
  {
   "cell_type": "code",
   "execution_count": 33,
   "source": [
    "num_features = ['age','annual_premium','vintage']\r\n",
    "correlation = data[num_features].corr(method = 'pearson')\r\n",
    "sns.heatmap(correlation, annot=True)"
   ],
   "outputs": [
    {
     "output_type": "execute_result",
     "data": {
      "text/plain": [
       "<AxesSubplot:>"
      ]
     },
     "metadata": {},
     "execution_count": 33
    }
   ],
   "metadata": {}
  },
  {
   "cell_type": "markdown",
   "source": [
    "In general, all the variables seem weakly correlated."
   ],
   "metadata": {}
  },
  {
   "cell_type": "markdown",
   "source": [
    "#### 6.3.2 Categorical Variables"
   ],
   "metadata": {}
  },
  {
   "cell_type": "markdown",
   "source": [
    "For the Categorical variables, a Cramer-V heatmap is created below."
   ],
   "metadata": {}
  },
  {
   "cell_type": "code",
   "execution_count": 34,
   "source": [
    "a1 = cramer_v(data['driving_license'],data['driving_license'])\r\n",
    "a2 = cramer_v(data['driving_license'],data['previously_insured'])\r\n",
    "a3 = cramer_v(data['driving_license'],data['vehicle_age'])\r\n",
    "\r\n",
    "a4 = cramer_v(data['previously_insured'],data['driving_license'])\r\n",
    "a5 = cramer_v(data['previously_insured'],data['previously_insured'])\r\n",
    "a6 = cramer_v(data['previously_insured'],data['vehicle_age'])\r\n",
    "\r\n",
    "a7 = cramer_v(data['vehicle_age'],data['driving_license'])\r\n",
    "a8 = cramer_v(data['vehicle_age'],data['previously_insured'])\r\n",
    "a9 = cramer_v(data['vehicle_age'],data['vehicle_age'])"
   ],
   "outputs": [],
   "metadata": {}
  },
  {
   "cell_type": "code",
   "execution_count": 35,
   "source": [
    "correlation = pd.DataFrame({\r\n",
    "    'driving_license' : [a1,a2,a3],\r\n",
    "    'previously_insured' : [a4,a5,a6],\r\n",
    "    'vehicle_age' : [a7,a8,a9]\r\n",
    "})\r\n",
    "\r\n",
    "correlation = correlation.set_index(correlation.columns)"
   ],
   "outputs": [],
   "metadata": {}
  },
  {
   "cell_type": "code",
   "execution_count": 36,
   "source": [
    "sns.heatmap(correlation,annot=True)"
   ],
   "outputs": [
    {
     "output_type": "execute_result",
     "data": {
      "text/plain": [
       "<AxesSubplot:>"
      ]
     },
     "metadata": {},
     "execution_count": 36
    }
   ],
   "metadata": {}
  },
  {
   "cell_type": "markdown",
   "source": [
    "On the plot we can detect a at least siginificant correlation between the variables \"Vehicle Age\" and \"Previously Insured\"."
   ],
   "metadata": {}
  },
  {
   "cell_type": "markdown",
   "source": [
    "## 7. Data Preparation"
   ],
   "metadata": {}
  },
  {
   "cell_type": "markdown",
   "source": [
    "On this section, the origional dataset is submitted to some operations resposible for preparing it for the modelling step."
   ],
   "metadata": {}
  },
  {
   "cell_type": "markdown",
   "source": [
    "### 7.1 Transformations"
   ],
   "metadata": {}
  },
  {
   "cell_type": "markdown",
   "source": [
    "We start off by making some transformations on columns. The main idea here is to make all the categorical columns be represented by numbers on the most appropriate way.\r\n",
    "\r\n",
    "For the binary columns, \"Gender\" and \"Vehicle Damage\", the values are replaced by a 0-1 notation."
   ],
   "metadata": {}
  },
  {
   "cell_type": "code",
   "execution_count": 37,
   "source": [
    "gender_dict = {'Male' : 0, 'Female' : 1}\r\n",
    "data['gender'] = data['gender'].map(gender_dict)"
   ],
   "outputs": [],
   "metadata": {}
  },
  {
   "cell_type": "code",
   "execution_count": 38,
   "source": [
    "vehicle_damage_dict = {'No' : 0, 'Yes' : 1}\r\n",
    "data['vehicle_damage'] = data['vehicle_damage'].map(vehicle_damage_dict)"
   ],
   "outputs": [],
   "metadata": {}
  },
  {
   "cell_type": "markdown",
   "source": [
    "After that, the \"Vehicle Age\" column, which involves three categories, is converted to a One-Hot encoding."
   ],
   "metadata": {}
  },
  {
   "cell_type": "code",
   "execution_count": 39,
   "source": [
    "data = pd.get_dummies(data,prefix=['vehicle_age'],columns=['vehicle_age'])"
   ],
   "outputs": [],
   "metadata": {}
  },
  {
   "cell_type": "code",
   "execution_count": 40,
   "source": [
    "data.head()"
   ],
   "outputs": [
    {
     "output_type": "execute_result",
     "data": {
      "text/plain": [
       "   gender  age  driving_license  region_code  previously_insured  vehicle_damage  annual_premium  policy_sales_channel  vintage  response  illegal_driver  no_insured_damage  vehicle_age_1-2 Year  vehicle_age_< 1 Year  vehicle_age_> 2 Years\n",
       "1       0   44                1           28                   0               1         40454.0                    26      217         1               0                  1                     0                     0                      1\n",
       "2       0   76                1            3                   0               0         33536.0                    26      183         0               0                  0                     1                     0                      0\n",
       "3       0   47                1           28                   0               1         38294.0                    26       27         1               0                  1                     0                     0                      1\n",
       "4       0   21                1           11                   1               0         28619.0                   152      203         0               0                  0                     0                     1                      0\n",
       "5       1   29                1           41                   1               0         27496.0                   152       39         0               0                  0                     0                     1                      0"
      ],
      "text/html": [
       "<div>\n",
       "<style scoped>\n",
       "    .dataframe tbody tr th:only-of-type {\n",
       "        vertical-align: middle;\n",
       "    }\n",
       "\n",
       "    .dataframe tbody tr th {\n",
       "        vertical-align: top;\n",
       "    }\n",
       "\n",
       "    .dataframe thead th {\n",
       "        text-align: right;\n",
       "    }\n",
       "</style>\n",
       "<table border=\"1\" class=\"dataframe\">\n",
       "  <thead>\n",
       "    <tr style=\"text-align: right;\">\n",
       "      <th></th>\n",
       "      <th>gender</th>\n",
       "      <th>age</th>\n",
       "      <th>driving_license</th>\n",
       "      <th>region_code</th>\n",
       "      <th>previously_insured</th>\n",
       "      <th>vehicle_damage</th>\n",
       "      <th>annual_premium</th>\n",
       "      <th>policy_sales_channel</th>\n",
       "      <th>vintage</th>\n",
       "      <th>response</th>\n",
       "      <th>illegal_driver</th>\n",
       "      <th>no_insured_damage</th>\n",
       "      <th>vehicle_age_1-2 Year</th>\n",
       "      <th>vehicle_age_&lt; 1 Year</th>\n",
       "      <th>vehicle_age_&gt; 2 Years</th>\n",
       "    </tr>\n",
       "  </thead>\n",
       "  <tbody>\n",
       "    <tr>\n",
       "      <th>1</th>\n",
       "      <td>0</td>\n",
       "      <td>44</td>\n",
       "      <td>1</td>\n",
       "      <td>28</td>\n",
       "      <td>0</td>\n",
       "      <td>1</td>\n",
       "      <td>40454.0</td>\n",
       "      <td>26</td>\n",
       "      <td>217</td>\n",
       "      <td>1</td>\n",
       "      <td>0</td>\n",
       "      <td>1</td>\n",
       "      <td>0</td>\n",
       "      <td>0</td>\n",
       "      <td>1</td>\n",
       "    </tr>\n",
       "    <tr>\n",
       "      <th>2</th>\n",
       "      <td>0</td>\n",
       "      <td>76</td>\n",
       "      <td>1</td>\n",
       "      <td>3</td>\n",
       "      <td>0</td>\n",
       "      <td>0</td>\n",
       "      <td>33536.0</td>\n",
       "      <td>26</td>\n",
       "      <td>183</td>\n",
       "      <td>0</td>\n",
       "      <td>0</td>\n",
       "      <td>0</td>\n",
       "      <td>1</td>\n",
       "      <td>0</td>\n",
       "      <td>0</td>\n",
       "    </tr>\n",
       "    <tr>\n",
       "      <th>3</th>\n",
       "      <td>0</td>\n",
       "      <td>47</td>\n",
       "      <td>1</td>\n",
       "      <td>28</td>\n",
       "      <td>0</td>\n",
       "      <td>1</td>\n",
       "      <td>38294.0</td>\n",
       "      <td>26</td>\n",
       "      <td>27</td>\n",
       "      <td>1</td>\n",
       "      <td>0</td>\n",
       "      <td>1</td>\n",
       "      <td>0</td>\n",
       "      <td>0</td>\n",
       "      <td>1</td>\n",
       "    </tr>\n",
       "    <tr>\n",
       "      <th>4</th>\n",
       "      <td>0</td>\n",
       "      <td>21</td>\n",
       "      <td>1</td>\n",
       "      <td>11</td>\n",
       "      <td>1</td>\n",
       "      <td>0</td>\n",
       "      <td>28619.0</td>\n",
       "      <td>152</td>\n",
       "      <td>203</td>\n",
       "      <td>0</td>\n",
       "      <td>0</td>\n",
       "      <td>0</td>\n",
       "      <td>0</td>\n",
       "      <td>1</td>\n",
       "      <td>0</td>\n",
       "    </tr>\n",
       "    <tr>\n",
       "      <th>5</th>\n",
       "      <td>1</td>\n",
       "      <td>29</td>\n",
       "      <td>1</td>\n",
       "      <td>41</td>\n",
       "      <td>1</td>\n",
       "      <td>0</td>\n",
       "      <td>27496.0</td>\n",
       "      <td>152</td>\n",
       "      <td>39</td>\n",
       "      <td>0</td>\n",
       "      <td>0</td>\n",
       "      <td>0</td>\n",
       "      <td>0</td>\n",
       "      <td>1</td>\n",
       "      <td>0</td>\n",
       "    </tr>\n",
       "  </tbody>\n",
       "</table>\n",
       "</div>"
      ]
     },
     "metadata": {},
     "execution_count": 40
    }
   ],
   "metadata": {}
  },
  {
   "cell_type": "markdown",
   "source": [
    "### 7.2 Train-Test Split"
   ],
   "metadata": {}
  },
  {
   "cell_type": "markdown",
   "source": [
    "Before continuing the preparation, a important step is proposed here: The separation of data between Train and Validation Set. Since ultil now we are working with the train set of a competition data, the \"Test\" set created here is called Validation to avoid any mistakes."
   ],
   "metadata": {}
  },
  {
   "cell_type": "code",
   "execution_count": 41,
   "source": [
    "X = data.drop('response',axis=1)\r\n",
    "y = data['response']"
   ],
   "outputs": [],
   "metadata": {}
  },
  {
   "cell_type": "code",
   "execution_count": 42,
   "source": [
    "X_train, X_val, y_train, y_val = train_test_split(X,y,test_size=0.33,random_state=42,stratify=y)"
   ],
   "outputs": [],
   "metadata": {}
  },
  {
   "cell_type": "markdown",
   "source": [
    "### 7.3 Standardization"
   ],
   "metadata": {}
  },
  {
   "cell_type": "markdown",
   "source": [
    "On this step, the Annual Premium columns is standardized."
   ],
   "metadata": {}
  },
  {
   "cell_type": "code",
   "execution_count": 43,
   "source": [
    "ss = StandardScaler()\r\n",
    "\r\n",
    "X_train['annual_premium'] = ss.fit_transform(X_train[['annual_premium']].values)\r\n",
    "X_val['annual_premium'] = ss.transform(X_val[['annual_premium']].values)\r\n",
    "pickle.dump(ss,open('../Parameters/annual_premium_scaler.pkl','wb'))"
   ],
   "outputs": [],
   "metadata": {}
  },
  {
   "cell_type": "markdown",
   "source": [
    "### 7.4 Rescaling"
   ],
   "metadata": {}
  },
  {
   "cell_type": "markdown",
   "source": [
    "On this subsection, the non-normal variables are rescaled, which involve the \"Age\" and \"Vintage\" variables."
   ],
   "metadata": {}
  },
  {
   "cell_type": "code",
   "execution_count": 44,
   "source": [
    "mms_age = MinMaxScaler()\r\n",
    "mms_vintage = MinMaxScaler()\r\n",
    "\r\n",
    "\r\n",
    "X_train['age'] = mms_age.fit_transform(X_train[['age']].values)\r\n",
    "X_val['age'] = mms_age.transform(X_val[['age']].values)\r\n",
    "pickle.dump(mms_age,open('../Parameters/age_scaler.pkl','wb'))\r\n",
    "\r\n",
    "X_train['vintage'] = mms_vintage.fit_transform(X_train[['vintage']].values)\r\n",
    "X_val['vintage'] = mms_vintage.transform(X_val[['vintage']].values)\r\n",
    "pickle.dump(mms_vintage,open('../Parameters/vintage_scaler.pkl','wb'))"
   ],
   "outputs": [],
   "metadata": {}
  },
  {
   "cell_type": "markdown",
   "source": [
    "### 7.5 Encoding"
   ],
   "metadata": {}
  },
  {
   "cell_type": "markdown",
   "source": [
    "Here, the more complex categorical variables are encoded. We start by applying a Target Encoding to \"Region Code\"."
   ],
   "metadata": {}
  },
  {
   "cell_type": "code",
   "execution_count": 45,
   "source": [
    "train_data = pd.concat([X_train,y_train],axis=1)"
   ],
   "outputs": [],
   "metadata": {}
  },
  {
   "cell_type": "code",
   "execution_count": 46,
   "source": [
    "te_region_code = train_data.groupby('region_code')['response'].mean()\r\n",
    "X_train['region_code'] = X_train['region_code'].map(te_region_code)\r\n",
    "X_val['region_code'] = X_val['region_code'].map(te_region_code)\r\n",
    "pickle.dump(te_region_code,open('../Parameters/region_code_encoder.pkl','wb'))"
   ],
   "outputs": [],
   "metadata": {}
  },
  {
   "cell_type": "markdown",
   "source": [
    "For, the \"Policy Sales Channel\" features, which has a high cardinality, we apply a Frequency Encoding."
   ],
   "metadata": {}
  },
  {
   "cell_type": "code",
   "execution_count": 47,
   "source": [
    "te_policy_sales_channel = X_train.groupby('policy_sales_channel').size() / len(X_train)\r\n",
    "X_train['policy_sales_channel'] = X_train['policy_sales_channel'].map(te_policy_sales_channel)\r\n",
    "X_val['policy_sales_channel'] = X_val['policy_sales_channel'].map(te_policy_sales_channel)\r\n",
    "pickle.dump(te_policy_sales_channel,open('../Parameters/policy_sales_channel_encoder.pkl','wb'))"
   ],
   "outputs": [],
   "metadata": {}
  },
  {
   "cell_type": "markdown",
   "source": [
    "### 7.6 Feature Selection"
   ],
   "metadata": {}
  },
  {
   "cell_type": "markdown",
   "source": [
    "On this last subsection of Data Preparation, the Feature Selection process is applied, where only the variables most relevant to learning are maintained on the dataset. For this task, the Feature Importance score returned by the Random Forest model is used."
   ],
   "metadata": {}
  },
  {
   "cell_type": "code",
   "execution_count": 48,
   "source": [
    "rf = RandomForestClassifier(n_jobs=-1)\r\n",
    "rf.fit(X_train,y_train)"
   ],
   "outputs": [
    {
     "output_type": "execute_result",
     "data": {
      "text/plain": [
       "RandomForestClassifier(n_jobs=-1)"
      ]
     },
     "metadata": {},
     "execution_count": 48
    }
   ],
   "metadata": {}
  },
  {
   "cell_type": "code",
   "execution_count": 49,
   "source": [
    "feature_importance = rf.feature_importances_"
   ],
   "outputs": [],
   "metadata": {}
  },
  {
   "cell_type": "code",
   "execution_count": 50,
   "source": [
    "feature_importance = pd.DataFrame([X_train.columns,feature_importance]).T\r\n",
    "feature_importance.columns = ['columns','feature_importance']\r\n",
    "feature_importance = feature_importance.sort_values('feature_importance',ascending=False)"
   ],
   "outputs": [],
   "metadata": {}
  },
  {
   "cell_type": "code",
   "execution_count": 51,
   "source": [
    "sns.barplot(y='columns',x='feature_importance',data=feature_importance,orient='h')"
   ],
   "outputs": [
    {
     "output_type": "execute_result",
     "data": {
      "text/plain": [
       "<AxesSubplot:xlabel='feature_importance', ylabel='columns'>"
      ]
     },
     "metadata": {},
     "execution_count": 51
    }
   ],
   "metadata": {}
  },
  {
   "cell_type": "markdown",
   "source": [
    "Based on the results obtained above, a manual definition of the selected features is proposed below."
   ],
   "metadata": {}
  },
  {
   "cell_type": "code",
   "execution_count": 52,
   "source": [
    "selected_columns = ['vintage','annual_premium','age','region_code','policy_sales_channel','no_insured_damage','vehicle_damage','previously_insured']\r\n",
    "X_train = X_train[selected_columns]\r\n",
    "X_val = X_val[selected_columns]"
   ],
   "outputs": [],
   "metadata": {}
  },
  {
   "cell_type": "code",
   "execution_count": 53,
   "source": [
    "X_train.head()"
   ],
   "outputs": [
    {
     "output_type": "execute_result",
     "data": {
      "text/plain": [
       "         vintage  annual_premium       age  region_code  policy_sales_channel  no_insured_damage  vehicle_damage  previously_insured\n",
       "347089  0.740484       -0.070293  0.153846     0.126372              0.353411                  0               0                   1\n",
       "148668  0.512111       -0.152861  0.061538     0.056488              0.353411                  0               0                   1\n",
       "282683  0.408304        0.618745  0.630769     0.186677              0.209318                  1               1                   0\n",
       "101296  0.889273        0.448502  0.030769     0.068651              0.353411                  0               0                   1\n",
       "60279   0.916955        0.355199  0.046154     0.073176              0.353411                  0               0                   0"
      ],
      "text/html": [
       "<div>\n",
       "<style scoped>\n",
       "    .dataframe tbody tr th:only-of-type {\n",
       "        vertical-align: middle;\n",
       "    }\n",
       "\n",
       "    .dataframe tbody tr th {\n",
       "        vertical-align: top;\n",
       "    }\n",
       "\n",
       "    .dataframe thead th {\n",
       "        text-align: right;\n",
       "    }\n",
       "</style>\n",
       "<table border=\"1\" class=\"dataframe\">\n",
       "  <thead>\n",
       "    <tr style=\"text-align: right;\">\n",
       "      <th></th>\n",
       "      <th>vintage</th>\n",
       "      <th>annual_premium</th>\n",
       "      <th>age</th>\n",
       "      <th>region_code</th>\n",
       "      <th>policy_sales_channel</th>\n",
       "      <th>no_insured_damage</th>\n",
       "      <th>vehicle_damage</th>\n",
       "      <th>previously_insured</th>\n",
       "    </tr>\n",
       "  </thead>\n",
       "  <tbody>\n",
       "    <tr>\n",
       "      <th>347089</th>\n",
       "      <td>0.740484</td>\n",
       "      <td>-0.070293</td>\n",
       "      <td>0.153846</td>\n",
       "      <td>0.126372</td>\n",
       "      <td>0.353411</td>\n",
       "      <td>0</td>\n",
       "      <td>0</td>\n",
       "      <td>1</td>\n",
       "    </tr>\n",
       "    <tr>\n",
       "      <th>148668</th>\n",
       "      <td>0.512111</td>\n",
       "      <td>-0.152861</td>\n",
       "      <td>0.061538</td>\n",
       "      <td>0.056488</td>\n",
       "      <td>0.353411</td>\n",
       "      <td>0</td>\n",
       "      <td>0</td>\n",
       "      <td>1</td>\n",
       "    </tr>\n",
       "    <tr>\n",
       "      <th>282683</th>\n",
       "      <td>0.408304</td>\n",
       "      <td>0.618745</td>\n",
       "      <td>0.630769</td>\n",
       "      <td>0.186677</td>\n",
       "      <td>0.209318</td>\n",
       "      <td>1</td>\n",
       "      <td>1</td>\n",
       "      <td>0</td>\n",
       "    </tr>\n",
       "    <tr>\n",
       "      <th>101296</th>\n",
       "      <td>0.889273</td>\n",
       "      <td>0.448502</td>\n",
       "      <td>0.030769</td>\n",
       "      <td>0.068651</td>\n",
       "      <td>0.353411</td>\n",
       "      <td>0</td>\n",
       "      <td>0</td>\n",
       "      <td>1</td>\n",
       "    </tr>\n",
       "    <tr>\n",
       "      <th>60279</th>\n",
       "      <td>0.916955</td>\n",
       "      <td>0.355199</td>\n",
       "      <td>0.046154</td>\n",
       "      <td>0.073176</td>\n",
       "      <td>0.353411</td>\n",
       "      <td>0</td>\n",
       "      <td>0</td>\n",
       "      <td>0</td>\n",
       "    </tr>\n",
       "  </tbody>\n",
       "</table>\n",
       "</div>"
      ]
     },
     "metadata": {},
     "execution_count": 53
    }
   ],
   "metadata": {}
  },
  {
   "cell_type": "markdown",
   "source": [
    "## 8. Modelling"
   ],
   "metadata": {}
  },
  {
   "cell_type": "markdown",
   "source": [
    "On this section, the Machine Learning model to be used on the main problem of this work is defined. First, some different models are applied to data, and their performances are compared with the use of Precision and Recall metrics adapted to a Learn to Rank problem."
   ],
   "metadata": {}
  },
  {
   "cell_type": "markdown",
   "source": [
    "### 8.1 Logistic Regression"
   ],
   "metadata": {}
  },
  {
   "cell_type": "code",
   "execution_count": 54,
   "source": [
    "ls = LogisticRegression()\r\n",
    "results_ls = cross_validation(model=ls,model_name='Logistic Regression',folds=5,k=20000,X=X_train,y=y_train)\r\n",
    "results_ls"
   ],
   "outputs": [
    {
     "output_type": "execute_result",
     "data": {
      "text/plain": [
       "                 Model Precision at K (CV) Recall at K (CV)\n",
       "0  Logistic Regression               0.269            0.859"
      ],
      "text/html": [
       "<div>\n",
       "<style scoped>\n",
       "    .dataframe tbody tr th:only-of-type {\n",
       "        vertical-align: middle;\n",
       "    }\n",
       "\n",
       "    .dataframe tbody tr th {\n",
       "        vertical-align: top;\n",
       "    }\n",
       "\n",
       "    .dataframe thead th {\n",
       "        text-align: right;\n",
       "    }\n",
       "</style>\n",
       "<table border=\"1\" class=\"dataframe\">\n",
       "  <thead>\n",
       "    <tr style=\"text-align: right;\">\n",
       "      <th></th>\n",
       "      <th>Model</th>\n",
       "      <th>Precision at K (CV)</th>\n",
       "      <th>Recall at K (CV)</th>\n",
       "    </tr>\n",
       "  </thead>\n",
       "  <tbody>\n",
       "    <tr>\n",
       "      <th>0</th>\n",
       "      <td>Logistic Regression</td>\n",
       "      <td>0.269</td>\n",
       "      <td>0.859</td>\n",
       "    </tr>\n",
       "  </tbody>\n",
       "</table>\n",
       "</div>"
      ]
     },
     "metadata": {},
     "execution_count": 54
    }
   ],
   "metadata": {}
  },
  {
   "cell_type": "markdown",
   "source": [
    "### 8.2 kNN"
   ],
   "metadata": {}
  },
  {
   "cell_type": "code",
   "execution_count": 55,
   "source": [
    "knn = KNeighborsClassifier(n_neighbors=10)\r\n",
    "results_knn = cross_validation(model=knn,model_name='kNN',folds=5,k=20000,X=X_train,y=y_train)\r\n",
    "results_knn"
   ],
   "outputs": [
    {
     "output_type": "execute_result",
     "data": {
      "text/plain": [
       "  Model Precision at K (CV) Recall at K (CV)\n",
       "0   kNN               0.267            0.852"
      ],
      "text/html": [
       "<div>\n",
       "<style scoped>\n",
       "    .dataframe tbody tr th:only-of-type {\n",
       "        vertical-align: middle;\n",
       "    }\n",
       "\n",
       "    .dataframe tbody tr th {\n",
       "        vertical-align: top;\n",
       "    }\n",
       "\n",
       "    .dataframe thead th {\n",
       "        text-align: right;\n",
       "    }\n",
       "</style>\n",
       "<table border=\"1\" class=\"dataframe\">\n",
       "  <thead>\n",
       "    <tr style=\"text-align: right;\">\n",
       "      <th></th>\n",
       "      <th>Model</th>\n",
       "      <th>Precision at K (CV)</th>\n",
       "      <th>Recall at K (CV)</th>\n",
       "    </tr>\n",
       "  </thead>\n",
       "  <tbody>\n",
       "    <tr>\n",
       "      <th>0</th>\n",
       "      <td>kNN</td>\n",
       "      <td>0.267</td>\n",
       "      <td>0.852</td>\n",
       "    </tr>\n",
       "  </tbody>\n",
       "</table>\n",
       "</div>"
      ]
     },
     "metadata": {},
     "execution_count": 55
    }
   ],
   "metadata": {}
  },
  {
   "cell_type": "markdown",
   "source": [
    "### 8.4 Random Forest"
   ],
   "metadata": {}
  },
  {
   "cell_type": "code",
   "execution_count": 56,
   "source": [
    "rf = RandomForestClassifier(n_estimators = 100,n_jobs=-1)\r\n",
    "results_rf = cross_validation(model=rf,model_name='Random Forest',folds=5,k=20000,X=X_train,y=y_train)\r\n",
    "results_rf"
   ],
   "outputs": [
    {
     "output_type": "execute_result",
     "data": {
      "text/plain": [
       "           Model Precision at K (CV) Recall at K (CV)\n",
       "0  Random Forest               0.275             0.88"
      ],
      "text/html": [
       "<div>\n",
       "<style scoped>\n",
       "    .dataframe tbody tr th:only-of-type {\n",
       "        vertical-align: middle;\n",
       "    }\n",
       "\n",
       "    .dataframe tbody tr th {\n",
       "        vertical-align: top;\n",
       "    }\n",
       "\n",
       "    .dataframe thead th {\n",
       "        text-align: right;\n",
       "    }\n",
       "</style>\n",
       "<table border=\"1\" class=\"dataframe\">\n",
       "  <thead>\n",
       "    <tr style=\"text-align: right;\">\n",
       "      <th></th>\n",
       "      <th>Model</th>\n",
       "      <th>Precision at K (CV)</th>\n",
       "      <th>Recall at K (CV)</th>\n",
       "    </tr>\n",
       "  </thead>\n",
       "  <tbody>\n",
       "    <tr>\n",
       "      <th>0</th>\n",
       "      <td>Random Forest</td>\n",
       "      <td>0.275</td>\n",
       "      <td>0.88</td>\n",
       "    </tr>\n",
       "  </tbody>\n",
       "</table>\n",
       "</div>"
      ]
     },
     "metadata": {},
     "execution_count": 56
    }
   ],
   "metadata": {}
  },
  {
   "cell_type": "markdown",
   "source": [
    "### 8.5 XGBoost"
   ],
   "metadata": {}
  },
  {
   "cell_type": "code",
   "execution_count": 57,
   "source": [
    "xgboost =xgb.XGBClassifier(n_estimators = 1000,tree_method='gpu_hist',objective='binary:logistic')\r\n",
    "results_xgb = cross_validation(model=xgboost,model_name='XGBoost',folds=5,k=20000,X=X_train,y=y_train);\r\n",
    "results_xgb"
   ],
   "outputs": [
    {
     "output_type": "execute_result",
     "data": {
      "text/plain": [
       "     Model Precision at K (CV) Recall at K (CV)\n",
       "0  XGBoost               0.277            0.886"
      ],
      "text/html": [
       "<div>\n",
       "<style scoped>\n",
       "    .dataframe tbody tr th:only-of-type {\n",
       "        vertical-align: middle;\n",
       "    }\n",
       "\n",
       "    .dataframe tbody tr th {\n",
       "        vertical-align: top;\n",
       "    }\n",
       "\n",
       "    .dataframe thead th {\n",
       "        text-align: right;\n",
       "    }\n",
       "</style>\n",
       "<table border=\"1\" class=\"dataframe\">\n",
       "  <thead>\n",
       "    <tr style=\"text-align: right;\">\n",
       "      <th></th>\n",
       "      <th>Model</th>\n",
       "      <th>Precision at K (CV)</th>\n",
       "      <th>Recall at K (CV)</th>\n",
       "    </tr>\n",
       "  </thead>\n",
       "  <tbody>\n",
       "    <tr>\n",
       "      <th>0</th>\n",
       "      <td>XGBoost</td>\n",
       "      <td>0.277</td>\n",
       "      <td>0.886</td>\n",
       "    </tr>\n",
       "  </tbody>\n",
       "</table>\n",
       "</div>"
      ]
     },
     "metadata": {},
     "execution_count": 57
    }
   ],
   "metadata": {}
  },
  {
   "cell_type": "markdown",
   "source": [
    "### 8.6 Performance Comparison"
   ],
   "metadata": {}
  },
  {
   "cell_type": "markdown",
   "source": [
    "On this subsection, the performance of the implemented models are compared."
   ],
   "metadata": {}
  },
  {
   "cell_type": "code",
   "execution_count": 58,
   "source": [
    "comparison_performance = pd.concat([results_ls,results_knn,results_rf,results_xgb])\r\n",
    "comparison_performance = comparison_performance.sort_values('Precision at K (CV)',ascending=False)\r\n",
    "comparison_performance"
   ],
   "outputs": [
    {
     "output_type": "execute_result",
     "data": {
      "text/plain": [
       "                 Model Precision at K (CV) Recall at K (CV)\n",
       "0              XGBoost               0.277            0.886\n",
       "0        Random Forest               0.275             0.88\n",
       "0  Logistic Regression               0.269            0.859\n",
       "0                  kNN               0.267            0.852"
      ],
      "text/html": [
       "<div>\n",
       "<style scoped>\n",
       "    .dataframe tbody tr th:only-of-type {\n",
       "        vertical-align: middle;\n",
       "    }\n",
       "\n",
       "    .dataframe tbody tr th {\n",
       "        vertical-align: top;\n",
       "    }\n",
       "\n",
       "    .dataframe thead th {\n",
       "        text-align: right;\n",
       "    }\n",
       "</style>\n",
       "<table border=\"1\" class=\"dataframe\">\n",
       "  <thead>\n",
       "    <tr style=\"text-align: right;\">\n",
       "      <th></th>\n",
       "      <th>Model</th>\n",
       "      <th>Precision at K (CV)</th>\n",
       "      <th>Recall at K (CV)</th>\n",
       "    </tr>\n",
       "  </thead>\n",
       "  <tbody>\n",
       "    <tr>\n",
       "      <th>0</th>\n",
       "      <td>XGBoost</td>\n",
       "      <td>0.277</td>\n",
       "      <td>0.886</td>\n",
       "    </tr>\n",
       "    <tr>\n",
       "      <th>0</th>\n",
       "      <td>Random Forest</td>\n",
       "      <td>0.275</td>\n",
       "      <td>0.88</td>\n",
       "    </tr>\n",
       "    <tr>\n",
       "      <th>0</th>\n",
       "      <td>Logistic Regression</td>\n",
       "      <td>0.269</td>\n",
       "      <td>0.859</td>\n",
       "    </tr>\n",
       "    <tr>\n",
       "      <th>0</th>\n",
       "      <td>kNN</td>\n",
       "      <td>0.267</td>\n",
       "      <td>0.852</td>\n",
       "    </tr>\n",
       "  </tbody>\n",
       "</table>\n",
       "</div>"
      ]
     },
     "metadata": {},
     "execution_count": 58
    }
   ],
   "metadata": {}
  },
  {
   "cell_type": "markdown",
   "source": [
    "It is possible to see that the model with best performance is XGBoost. So, this will be our selected model for the rest of this work."
   ],
   "metadata": {}
  },
  {
   "cell_type": "markdown",
   "source": [
    "### 8.7 Hyperparameter Tuning"
   ],
   "metadata": {}
  },
  {
   "cell_type": "markdown",
   "source": [
    "After the definiton of the model, to be used, on this subsection a process of tuning it's hyperparameters is proposed, with the goal to increase the model performance on this particular dataset. For maintaining the simplicity, a Random Search method is used for this task."
   ],
   "metadata": {}
  },
  {
   "cell_type": "code",
   "execution_count": 59,
   "source": [
    "param = {\r\n",
    "    'n_estimators' : [1000,1100,1200,1500,1700],\r\n",
    "    'eta' : [0.01,0.03,0.05],\r\n",
    "    'max_depth' : [2,3,4,5,7],\r\n",
    "    'subsample' : [0.1,0.5,0.7],\r\n",
    "    'colsample_bytree' : [0.3,0.7,0.9],\r\n",
    "    'min_child_weight' : [3,8,15]\r\n",
    "}\r\n",
    "\r\n",
    "MAX_EVAL = 15"
   ],
   "outputs": [],
   "metadata": {}
  },
  {
   "cell_type": "code",
   "execution_count": 60,
   "source": [
    "final_result = pd.DataFrame()\r\n",
    "\r\n",
    "for size in range(MAX_EVAL):\r\n",
    "\r\n",
    "    hp = {k : random.sample(v,1)[0] for k,v in param.items()}\r\n",
    "    print(hp)\r\n",
    "\r\n",
    "    # model\r\n",
    "    model_xgb = xgb.XGBClassifier(\r\n",
    "        n_estimators=hp['n_estimators'],\r\n",
    "        eta=hp['eta'],\r\n",
    "        max_depth=hp['max_depth'],\r\n",
    "        subsample=hp['subsample'],\r\n",
    "        colsample_bytree=hp['colsample_bytree'],\r\n",
    "        min_child_weight=hp['min_child_weight'],\r\n",
    "        tree_method = 'gpu_hist'\r\n",
    "    )\r\n",
    "\r\n",
    "    result = cross_validation(model=model_xgb,model_name='XGBoost',folds=5,k=20000,X=X_train,y=y_train);\r\n",
    "\r\n",
    "\r\n",
    "    final_result = pd.concat([final_result, result])\r\n",
    "final_result"
   ],
   "outputs": [
    {
     "output_type": "stream",
     "name": "stdout",
     "text": [
      "{'n_estimators': 1200, 'eta': 0.03, 'max_depth': 7, 'subsample': 0.5, 'colsample_bytree': 0.3, 'min_child_weight': 8}\n",
      "{'n_estimators': 1500, 'eta': 0.03, 'max_depth': 5, 'subsample': 0.1, 'colsample_bytree': 0.7, 'min_child_weight': 15}\n",
      "{'n_estimators': 1700, 'eta': 0.01, 'max_depth': 5, 'subsample': 0.5, 'colsample_bytree': 0.3, 'min_child_weight': 15}\n",
      "{'n_estimators': 1000, 'eta': 0.05, 'max_depth': 4, 'subsample': 0.1, 'colsample_bytree': 0.3, 'min_child_weight': 3}\n",
      "{'n_estimators': 1500, 'eta': 0.01, 'max_depth': 2, 'subsample': 0.1, 'colsample_bytree': 0.9, 'min_child_weight': 3}\n",
      "{'n_estimators': 1100, 'eta': 0.03, 'max_depth': 7, 'subsample': 0.1, 'colsample_bytree': 0.7, 'min_child_weight': 15}\n",
      "{'n_estimators': 1500, 'eta': 0.05, 'max_depth': 3, 'subsample': 0.5, 'colsample_bytree': 0.9, 'min_child_weight': 8}\n",
      "{'n_estimators': 1000, 'eta': 0.03, 'max_depth': 4, 'subsample': 0.1, 'colsample_bytree': 0.3, 'min_child_weight': 8}\n",
      "{'n_estimators': 1700, 'eta': 0.03, 'max_depth': 4, 'subsample': 0.1, 'colsample_bytree': 0.9, 'min_child_weight': 15}\n",
      "{'n_estimators': 1500, 'eta': 0.05, 'max_depth': 5, 'subsample': 0.7, 'colsample_bytree': 0.7, 'min_child_weight': 8}\n",
      "{'n_estimators': 1100, 'eta': 0.01, 'max_depth': 7, 'subsample': 0.7, 'colsample_bytree': 0.7, 'min_child_weight': 3}\n",
      "{'n_estimators': 1700, 'eta': 0.05, 'max_depth': 7, 'subsample': 0.1, 'colsample_bytree': 0.7, 'min_child_weight': 3}\n",
      "{'n_estimators': 1700, 'eta': 0.01, 'max_depth': 7, 'subsample': 0.1, 'colsample_bytree': 0.3, 'min_child_weight': 3}\n",
      "{'n_estimators': 1100, 'eta': 0.01, 'max_depth': 7, 'subsample': 0.1, 'colsample_bytree': 0.3, 'min_child_weight': 8}\n",
      "{'n_estimators': 1000, 'eta': 0.05, 'max_depth': 2, 'subsample': 0.1, 'colsample_bytree': 0.3, 'min_child_weight': 8}\n"
     ]
    },
    {
     "output_type": "execute_result",
     "data": {
      "text/plain": [
       "     Model Precision at K (CV) Recall at K (CV)\n",
       "0  XGBoost               0.287            0.916\n",
       "0  XGBoost               0.286            0.913\n",
       "0  XGBoost               0.286            0.914\n",
       "0  XGBoost               0.286            0.914\n",
       "0  XGBoost               0.285            0.909\n",
       "0  XGBoost               0.286            0.913\n",
       "0  XGBoost               0.286            0.915\n",
       "0  XGBoost               0.286            0.914\n",
       "0  XGBoost               0.286            0.914\n",
       "0  XGBoost               0.286            0.914\n",
       "0  XGBoost               0.287            0.917\n",
       "0  XGBoost               0.283            0.905\n",
       "0  XGBoost               0.286            0.914\n",
       "0  XGBoost               0.286            0.914\n",
       "0  XGBoost               0.285            0.911"
      ],
      "text/html": [
       "<div>\n",
       "<style scoped>\n",
       "    .dataframe tbody tr th:only-of-type {\n",
       "        vertical-align: middle;\n",
       "    }\n",
       "\n",
       "    .dataframe tbody tr th {\n",
       "        vertical-align: top;\n",
       "    }\n",
       "\n",
       "    .dataframe thead th {\n",
       "        text-align: right;\n",
       "    }\n",
       "</style>\n",
       "<table border=\"1\" class=\"dataframe\">\n",
       "  <thead>\n",
       "    <tr style=\"text-align: right;\">\n",
       "      <th></th>\n",
       "      <th>Model</th>\n",
       "      <th>Precision at K (CV)</th>\n",
       "      <th>Recall at K (CV)</th>\n",
       "    </tr>\n",
       "  </thead>\n",
       "  <tbody>\n",
       "    <tr>\n",
       "      <th>0</th>\n",
       "      <td>XGBoost</td>\n",
       "      <td>0.287</td>\n",
       "      <td>0.916</td>\n",
       "    </tr>\n",
       "    <tr>\n",
       "      <th>0</th>\n",
       "      <td>XGBoost</td>\n",
       "      <td>0.286</td>\n",
       "      <td>0.913</td>\n",
       "    </tr>\n",
       "    <tr>\n",
       "      <th>0</th>\n",
       "      <td>XGBoost</td>\n",
       "      <td>0.286</td>\n",
       "      <td>0.914</td>\n",
       "    </tr>\n",
       "    <tr>\n",
       "      <th>0</th>\n",
       "      <td>XGBoost</td>\n",
       "      <td>0.286</td>\n",
       "      <td>0.914</td>\n",
       "    </tr>\n",
       "    <tr>\n",
       "      <th>0</th>\n",
       "      <td>XGBoost</td>\n",
       "      <td>0.285</td>\n",
       "      <td>0.909</td>\n",
       "    </tr>\n",
       "    <tr>\n",
       "      <th>0</th>\n",
       "      <td>XGBoost</td>\n",
       "      <td>0.286</td>\n",
       "      <td>0.913</td>\n",
       "    </tr>\n",
       "    <tr>\n",
       "      <th>0</th>\n",
       "      <td>XGBoost</td>\n",
       "      <td>0.286</td>\n",
       "      <td>0.915</td>\n",
       "    </tr>\n",
       "    <tr>\n",
       "      <th>0</th>\n",
       "      <td>XGBoost</td>\n",
       "      <td>0.286</td>\n",
       "      <td>0.914</td>\n",
       "    </tr>\n",
       "    <tr>\n",
       "      <th>0</th>\n",
       "      <td>XGBoost</td>\n",
       "      <td>0.286</td>\n",
       "      <td>0.914</td>\n",
       "    </tr>\n",
       "    <tr>\n",
       "      <th>0</th>\n",
       "      <td>XGBoost</td>\n",
       "      <td>0.286</td>\n",
       "      <td>0.914</td>\n",
       "    </tr>\n",
       "    <tr>\n",
       "      <th>0</th>\n",
       "      <td>XGBoost</td>\n",
       "      <td>0.287</td>\n",
       "      <td>0.917</td>\n",
       "    </tr>\n",
       "    <tr>\n",
       "      <th>0</th>\n",
       "      <td>XGBoost</td>\n",
       "      <td>0.283</td>\n",
       "      <td>0.905</td>\n",
       "    </tr>\n",
       "    <tr>\n",
       "      <th>0</th>\n",
       "      <td>XGBoost</td>\n",
       "      <td>0.286</td>\n",
       "      <td>0.914</td>\n",
       "    </tr>\n",
       "    <tr>\n",
       "      <th>0</th>\n",
       "      <td>XGBoost</td>\n",
       "      <td>0.286</td>\n",
       "      <td>0.914</td>\n",
       "    </tr>\n",
       "    <tr>\n",
       "      <th>0</th>\n",
       "      <td>XGBoost</td>\n",
       "      <td>0.285</td>\n",
       "      <td>0.911</td>\n",
       "    </tr>\n",
       "  </tbody>\n",
       "</table>\n",
       "</div>"
      ]
     },
     "metadata": {},
     "execution_count": 60
    }
   ],
   "metadata": {}
  },
  {
   "cell_type": "markdown",
   "source": [
    "### 8.8 Final Model"
   ],
   "metadata": {}
  },
  {
   "cell_type": "markdown",
   "source": [
    "As a result of the last step, the hyperparameters below are selected for the final model."
   ],
   "metadata": {}
  },
  {
   "cell_type": "code",
   "execution_count": 61,
   "source": [
    "param_tuned = {'n_estimators': 1200, \r\n",
    "                'eta': 0.01, \r\n",
    "                'max_depth': 7, \r\n",
    "                'subsample': 0.7, \r\n",
    "                'colsample_bytree': 0.7, \r\n",
    "                'min_child_weight': 3}"
   ],
   "outputs": [],
   "metadata": {}
  },
  {
   "cell_type": "markdown",
   "source": [
    "This model is them applied to data and it's predictions are generated."
   ],
   "metadata": {}
  },
  {
   "cell_type": "code",
   "execution_count": 62,
   "source": [
    "model_xgb_tuned = xgb.XGBClassifier(\r\n",
    "    objective='binary:logistic',\r\n",
    "    n_estimators=param_tuned['n_estimators'],\r\n",
    "    eta=param_tuned['eta'],\r\n",
    "    max_depth=param_tuned['max_depth'],\r\n",
    "    subsample=param_tuned['subsample'],\r\n",
    "    colsample_bytree=param_tuned['colsample_bytree'],\r\n",
    "    min_child_weight=param_tuned['min_child_weight'],\r\n",
    "    tree_method = 'gpu_hist').fit(X_train, y_train,eval_metric='auc')\r\n",
    "\r\n",
    "yhat_xgb_tuned = model_xgb_tuned.predict_proba(X_val)"
   ],
   "outputs": [],
   "metadata": {}
  },
  {
   "cell_type": "markdown",
   "source": [
    "The model, and it's predictions are then saved for futher use."
   ],
   "metadata": {}
  },
  {
   "cell_type": "code",
   "execution_count": 63,
   "source": [
    "pickle.dump(model_xgb_tuned, open('../Model/xgb_model.pkl','wb'))"
   ],
   "outputs": [],
   "metadata": {}
  },
  {
   "cell_type": "code",
   "execution_count": 64,
   "source": [
    "model_predictions = pd.DataFrame(yhat_xgb_tuned,columns=['Class 0','Class 1'])\r\n",
    "model_predictions.head()"
   ],
   "outputs": [
    {
     "output_type": "execute_result",
     "data": {
      "text/plain": [
       "    Class 0   Class 1\n",
       "0  0.999383  0.000617\n",
       "1  0.998026  0.001974\n",
       "2  0.999670  0.000330\n",
       "3  0.986310  0.013690\n",
       "4  0.999423  0.000577"
      ],
      "text/html": [
       "<div>\n",
       "<style scoped>\n",
       "    .dataframe tbody tr th:only-of-type {\n",
       "        vertical-align: middle;\n",
       "    }\n",
       "\n",
       "    .dataframe tbody tr th {\n",
       "        vertical-align: top;\n",
       "    }\n",
       "\n",
       "    .dataframe thead th {\n",
       "        text-align: right;\n",
       "    }\n",
       "</style>\n",
       "<table border=\"1\" class=\"dataframe\">\n",
       "  <thead>\n",
       "    <tr style=\"text-align: right;\">\n",
       "      <th></th>\n",
       "      <th>Class 0</th>\n",
       "      <th>Class 1</th>\n",
       "    </tr>\n",
       "  </thead>\n",
       "  <tbody>\n",
       "    <tr>\n",
       "      <th>0</th>\n",
       "      <td>0.999383</td>\n",
       "      <td>0.000617</td>\n",
       "    </tr>\n",
       "    <tr>\n",
       "      <th>1</th>\n",
       "      <td>0.998026</td>\n",
       "      <td>0.001974</td>\n",
       "    </tr>\n",
       "    <tr>\n",
       "      <th>2</th>\n",
       "      <td>0.999670</td>\n",
       "      <td>0.000330</td>\n",
       "    </tr>\n",
       "    <tr>\n",
       "      <th>3</th>\n",
       "      <td>0.986310</td>\n",
       "      <td>0.013690</td>\n",
       "    </tr>\n",
       "    <tr>\n",
       "      <th>4</th>\n",
       "      <td>0.999423</td>\n",
       "      <td>0.000577</td>\n",
       "    </tr>\n",
       "  </tbody>\n",
       "</table>\n",
       "</div>"
      ]
     },
     "metadata": {},
     "execution_count": 64
    }
   ],
   "metadata": {}
  },
  {
   "cell_type": "code",
   "execution_count": 65,
   "source": [
    "model_predictions.to_pickle('../Data/model_predictions.pkl')"
   ],
   "outputs": [],
   "metadata": {}
  },
  {
   "cell_type": "markdown",
   "source": [
    "## 9. Error Interpretation"
   ],
   "metadata": {}
  },
  {
   "cell_type": "markdown",
   "source": [
    "### 9.1 Report for Business "
   ],
   "metadata": {}
  },
  {
   "cell_type": "markdown",
   "source": [
    "For reporting the model results to the Business teamns, managers and investors, on this section we use two very intuitive tools presented in the form of graphs: The Cumulative Gains Curve and the Lift Curve.\r\n",
    "\r\n",
    "The first one, the Cumulative Gains Curve show us how much percentage of a determined class we can reach (Y-Axis) by using a specific percentage of the ordered scored list returned by the model (X-Axis). Also, on this curve, the graphs will also show a extra curve that presents the same concept of Cumulative Gains for a baseline random model. Basically, this tool can answer the question: How much interested clients we can reach by using just the first X % of the list returned by the model? And how better this is than selecting clients at random?\r\n",
    "\r\n",
    "The Cumulative Gains Curve of our model can be seen below."
   ],
   "metadata": {}
  },
  {
   "cell_type": "code",
   "execution_count": 66,
   "source": [
    "skplt.metrics.plot_cumulative_gain(y_val,model_predictions)"
   ],
   "outputs": [
    {
     "output_type": "execute_result",
     "data": {
      "text/plain": [
       "<AxesSubplot:title={'center':'Cumulative Gains Curve'}, xlabel='Percentage of sample', ylabel='Gain'>"
      ]
     },
     "metadata": {},
     "execution_count": 66
    }
   ],
   "metadata": {}
  },
  {
   "cell_type": "markdown",
   "source": [
    "The second tool, the Lift Curve, is also a graphical tool that is similar to the Cumulative Gains Curve, but shows the results in terms of the ratio between the number of samples of the interested class reached and the total samples used from the model's list. So for example, if by using 30% of the list, it is possible to reach 60% of the interested customers, the Lift Curve presents a score of 2. Again, we can also compare the results with a random model which is presented as a flat curve with Score 1. So, basically this tool is a more objective way of answering how much better our model is compared to a random selection of customers.\r\n",
    "\r\n",
    "The Lift Curve of our model can be seen below."
   ],
   "metadata": {}
  },
  {
   "cell_type": "code",
   "execution_count": 67,
   "source": [
    "skplt.metrics.plot_lift_curve(y_val,model_predictions)"
   ],
   "outputs": [
    {
     "output_type": "execute_result",
     "data": {
      "text/plain": [
       "<AxesSubplot:title={'center':'Lift Curve'}, xlabel='Percentage of sample', ylabel='Lift'>"
      ]
     },
     "metadata": {},
     "execution_count": 67
    }
   ],
   "metadata": {}
  },
  {
   "cell_type": "markdown",
   "source": [
    "So, with this tools in mind, we can start answering some interesting questions to guide our analysis."
   ],
   "metadata": {}
  },
  {
   "cell_type": "markdown",
   "source": [
    "#### 1. How much percentage of interested clients can be contacted by calling the first 20000 clients of the list returned by the model?"
   ],
   "metadata": {}
  },
  {
   "cell_type": "markdown",
   "source": [
    "Since the X-Axis on the graphs are presented as percentages, we first convert the 20000 value to a percentage of the list."
   ],
   "metadata": {}
  },
  {
   "cell_type": "code",
   "execution_count": 68,
   "source": [
    "position_20000 = 20000/y_val.shape[0]"
   ],
   "outputs": [],
   "metadata": {}
  },
  {
   "cell_type": "markdown",
   "source": [
    "Now the Cumulative Gains Curve and the Lift Curve are again plotted, but now with a red vertical line indicating the 20000 position."
   ],
   "metadata": {}
  },
  {
   "cell_type": "code",
   "execution_count": 69,
   "source": [
    "ax=plt.subplot(1,2,1)\r\n",
    "skplt.metrics.plot_cumulative_gain(y_val,model_predictions,ax=ax)\r\n",
    "plt.vlines(position_20000,0,1,'r','--')\r\n",
    "\r\n",
    "ax = plt.subplot(1,2,2)\r\n",
    "skplt.metrics.plot_lift_curve(y_val,model_predictions,ax=ax)\r\n",
    "plt.vlines(position_20000,0,8,'r','--')"
   ],
   "outputs": [
    {
     "output_type": "execute_result",
     "data": {
      "text/plain": [
       "<matplotlib.collections.LineCollection at 0x23b4d0ca8e0>"
      ]
     },
     "metadata": {},
     "execution_count": 69
    }
   ],
   "metadata": {}
  },
  {
   "cell_type": "markdown",
   "source": [
    "So considering a Lift Score of 3, and the fact that 20000 corresponds to almost 16% of the list, with 20000 calls, we can reach 48% percent of the interested customers."
   ],
   "metadata": {}
  },
  {
   "cell_type": "markdown",
   "source": [
    "#### 2. And what about if we increase the number of calls to 40000? How much of the interested clients it is possible to reach?"
   ],
   "metadata": {}
  },
  {
   "cell_type": "markdown",
   "source": [
    "The same process used on the first question is applied here, but considering now the 40000 value."
   ],
   "metadata": {}
  },
  {
   "cell_type": "code",
   "execution_count": 70,
   "source": [
    "position_40000 = 40000/y_val.shape[0]"
   ],
   "outputs": [],
   "metadata": {}
  },
  {
   "cell_type": "markdown",
   "source": [
    "Now the Cumulative Gains Curve and the Lift Curve are again plotted, but now with a red vertical line indicating the 40000 position."
   ],
   "metadata": {}
  },
  {
   "cell_type": "code",
   "execution_count": 71,
   "source": [
    "ax=plt.subplot(1,2,1)\r\n",
    "skplt.metrics.plot_cumulative_gain(y_val,model_predictions,ax=ax)\r\n",
    "plt.vlines(position_40000,0,1,'r','--')\r\n",
    "\r\n",
    "ax = plt.subplot(1,2,2)\r\n",
    "skplt.metrics.plot_lift_curve(y_val,model_predictions,ax=ax)\r\n",
    "plt.vlines(position_40000,0,8,'r','--')"
   ],
   "outputs": [
    {
     "output_type": "execute_result",
     "data": {
      "text/plain": [
       "<matplotlib.collections.LineCollection at 0x23b4c96d520>"
      ]
     },
     "metadata": {},
     "execution_count": 71
    }
   ],
   "metadata": {}
  },
  {
   "cell_type": "markdown",
   "source": [
    "Considering a Lift Score of approximately 2.7, and the fact that 40000 correponds to almost 32% of the list, we can expect that 40000 calls would reach 86.4% of the interested clients."
   ],
   "metadata": {}
  },
  {
   "cell_type": "markdown",
   "source": [
    "#### 3. How much calls the sales team needs to make to reach 80% of the interested clients?"
   ],
   "metadata": {}
  },
  {
   "cell_type": "markdown",
   "source": [
    "To answer this last question, we can pot on the Cumulative Gains Curve a horizontal line on 80% of interested customers and check how much of the list needs to be evaluated."
   ],
   "metadata": {}
  },
  {
   "cell_type": "code",
   "execution_count": 72,
   "source": [
    "skplt.metrics.plot_cumulative_gain(y_val,model_predictions)\r\n",
    "plt.hlines(0.8,0,1,'r','--')\r\n"
   ],
   "outputs": [
    {
     "output_type": "execute_result",
     "data": {
      "text/plain": [
       "<matplotlib.collections.LineCollection at 0x23b4c9cab80>"
      ]
     },
     "metadata": {},
     "execution_count": 72
    }
   ],
   "metadata": {}
  },
  {
   "cell_type": "markdown",
   "source": [
    "It seems that approximately 30% of the list is needed to achieve that."
   ],
   "metadata": {}
  },
  {
   "cell_type": "markdown",
   "source": [
    "### 9.2 Report for Data Scientists"
   ],
   "metadata": {}
  },
  {
   "cell_type": "markdown",
   "source": [
    "On this section, a more technical report of the results is proposed, aiming Data Scientists and Analysts. The main idea here is to understand the model's performance in terms of the error metrics used on the Cross-Validation and to select the hyperparameters.\r\n",
    "As can be seen, two metrics were used, despite only one is truly being considered. The first one, Precision at K, consists of calculating the Precision of the model for the first K samples of the ordered list. Mathematically, this metric can be given by:\r\n",
    "\r\n",
    "$$Precision \\: at \\: K = \\frac{True \\: Positives \\: at \\: K}{(True \\: Positives \\: at \\: K) + (False \\: Positives \\: at \\: K)} = \\frac{Number \\: of  \\: Interested \\: Customers \\: correctly \\: predicted \\: by  \\: the \\: Model \\: at \\: K }{Number \\: of \\: all \\: Customers \\: predicted  \\: as \\: Interested \\: at \\: K}$$\r\n",
    "\r\n",
    "In technical terms, the Precision measures how much of the positive predictions of the model are really correct. On the right side of equation, this sentence is translated to our problem: How much of the Customers that the model recommended are really interested on the Vehicle Insurance offer?\r\n",
    "\r\n",
    "Recall is a very close metric to Precision, but it has a different meaning. Mathematically:\r\n",
    "\r\n",
    "$$Recall \\: at \\: K = \\frac{True \\: Positives \\: at \\: K}{(True \\: Positives \\: at \\: K) + (False \\: Negatives \\: at \\: K)} = \\frac{Number \\: of  \\: Interested \\: Customers \\: correctly \\: predicted \\: by  \\: the \\: Model \\: at \\: K }{Number \\: of \\: all \\: Interested \\: Customers \\: at \\: K}$$\r\n",
    "\r\n",
    "This metric actually measure how much of the true positive samples are predicted as positives by the model. In terms of the problem: How much of the truly interested customers are correctly predicted by the model?\r\n",
    "\r\n",
    "The difference is subtle but briefly, Precision is based on the total of POSITIVE PREDICTIONS of the model, and Recall is based on the total of POSITIVE SAMPLES of the data."
   ],
   "metadata": {}
  },
  {
   "cell_type": "markdown",
   "source": [
    "So, after understaing that, what does these metrics tell us about the models? Let's check again the results obtained on the Model Comparison."
   ],
   "metadata": {}
  },
  {
   "cell_type": "code",
   "execution_count": 73,
   "source": [
    "comparison_performance"
   ],
   "outputs": [
    {
     "output_type": "execute_result",
     "data": {
      "text/plain": [
       "                 Model Precision at K (CV) Recall at K (CV)\n",
       "0              XGBoost               0.277            0.886\n",
       "0        Random Forest               0.275             0.88\n",
       "0  Logistic Regression               0.269            0.859\n",
       "0                  kNN               0.267            0.852"
      ],
      "text/html": [
       "<div>\n",
       "<style scoped>\n",
       "    .dataframe tbody tr th:only-of-type {\n",
       "        vertical-align: middle;\n",
       "    }\n",
       "\n",
       "    .dataframe tbody tr th {\n",
       "        vertical-align: top;\n",
       "    }\n",
       "\n",
       "    .dataframe thead th {\n",
       "        text-align: right;\n",
       "    }\n",
       "</style>\n",
       "<table border=\"1\" class=\"dataframe\">\n",
       "  <thead>\n",
       "    <tr style=\"text-align: right;\">\n",
       "      <th></th>\n",
       "      <th>Model</th>\n",
       "      <th>Precision at K (CV)</th>\n",
       "      <th>Recall at K (CV)</th>\n",
       "    </tr>\n",
       "  </thead>\n",
       "  <tbody>\n",
       "    <tr>\n",
       "      <th>0</th>\n",
       "      <td>XGBoost</td>\n",
       "      <td>0.277</td>\n",
       "      <td>0.886</td>\n",
       "    </tr>\n",
       "    <tr>\n",
       "      <th>0</th>\n",
       "      <td>Random Forest</td>\n",
       "      <td>0.275</td>\n",
       "      <td>0.88</td>\n",
       "    </tr>\n",
       "    <tr>\n",
       "      <th>0</th>\n",
       "      <td>Logistic Regression</td>\n",
       "      <td>0.269</td>\n",
       "      <td>0.859</td>\n",
       "    </tr>\n",
       "    <tr>\n",
       "      <th>0</th>\n",
       "      <td>kNN</td>\n",
       "      <td>0.267</td>\n",
       "      <td>0.852</td>\n",
       "    </tr>\n",
       "  </tbody>\n",
       "</table>\n",
       "</div>"
      ]
     },
     "metadata": {},
     "execution_count": 73
    }
   ],
   "metadata": {}
  },
  {
   "cell_type": "markdown",
   "source": [
    "In general, it is possible to see that all the models reached a High Recall but with Lower Precisions. What that means, is that in terms of correctly predicting the Truly Interested Clients, the model presents a good performance, but to reach that, a lot of predicitions of potential clients are made, and a lot of them are incorrect. These errors of the model is an important observation, and can be a probably consequence of the disbalance of the data between interested and uninterested customers. "
   ],
   "metadata": {}
  },
  {
   "cell_type": "markdown",
   "source": [
    "After these discussions, we can finish this section by analyzing the actual results of the model on validation data. Let's check that."
   ],
   "metadata": {}
  },
  {
   "cell_type": "code",
   "execution_count": 74,
   "source": [
    "precision, recall = calculate_performance(y_true=y_val, y_hat=yhat_xgb_tuned,k=20000)\r\n",
    "\r\n",
    "results_tuned = generate_results_df('XGBoost Tuned', precision, recall)\r\n",
    "results_tuned"
   ],
   "outputs": [
    {
     "output_type": "execute_result",
     "data": {
      "text/plain": [
       "           Model Precision at K (CV) Recall at K (CV)\n",
       "0  XGBoost Tuned               0.369            0.479"
      ],
      "text/html": [
       "<div>\n",
       "<style scoped>\n",
       "    .dataframe tbody tr th:only-of-type {\n",
       "        vertical-align: middle;\n",
       "    }\n",
       "\n",
       "    .dataframe tbody tr th {\n",
       "        vertical-align: top;\n",
       "    }\n",
       "\n",
       "    .dataframe thead th {\n",
       "        text-align: right;\n",
       "    }\n",
       "</style>\n",
       "<table border=\"1\" class=\"dataframe\">\n",
       "  <thead>\n",
       "    <tr style=\"text-align: right;\">\n",
       "      <th></th>\n",
       "      <th>Model</th>\n",
       "      <th>Precision at K (CV)</th>\n",
       "      <th>Recall at K (CV)</th>\n",
       "    </tr>\n",
       "  </thead>\n",
       "  <tbody>\n",
       "    <tr>\n",
       "      <th>0</th>\n",
       "      <td>XGBoost Tuned</td>\n",
       "      <td>0.369</td>\n",
       "      <td>0.479</td>\n",
       "    </tr>\n",
       "  </tbody>\n",
       "</table>\n",
       "</div>"
      ]
     },
     "metadata": {},
     "execution_count": 74
    }
   ],
   "metadata": {}
  },
  {
   "cell_type": "markdown",
   "source": [
    "The result presented the same pattern of high recall-low precision, but overall, we can see a high decrease in the performance of the model on the validation data compared to the training performance, which can be a possible result of overfitting. This result can be a good opportunity for improvement in the future."
   ],
   "metadata": {}
  }
 ],
 "metadata": {
  "orig_nbformat": 4,
  "language_info": {
   "name": "python",
   "version": "3.9.6",
   "mimetype": "text/x-python",
   "codemirror_mode": {
    "name": "ipython",
    "version": 3
   },
   "pygments_lexer": "ipython3",
   "nbconvert_exporter": "python",
   "file_extension": ".py"
  },
  "kernelspec": {
   "name": "python3",
   "display_name": "Python 3.9.6 64-bit (conda)"
  },
  "interpreter": {
   "hash": "e31641f357c7d180bed34a45a3cae0c2f5099eba40e9f23b35324b235f434b58"
  }
 },
 "nbformat": 4,
 "nbformat_minor": 2
}